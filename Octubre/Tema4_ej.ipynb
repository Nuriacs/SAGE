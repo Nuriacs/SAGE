{
 "cells": [
  {
   "cell_type": "markdown",
   "metadata": {},
   "source": [
    "### Ej 2\n",
    "$\\text{Orbitas de  } f(n)=n² \\text{ para } n \\in \\mathbb{Z}_m $"
   ]
  },
  {
   "cell_type": "code",
   "execution_count": null,
   "metadata": {
    "collapsed": false
   },
   "outputs": [],
   "source": [
    "Zm = Integers(5)\n",
    "a = Zm(2)\n",
    "()\n",
    "\n",
    "def f(x):\n",
    "    return x**2\n",
    "\n",
    "def orbitasZm(m, f):\n",
    "    L = []\n",
    "    Zm = Integers(m)\n",
    "    for item in Zm:\n",
    "        L.append((item, orbita(item, f)))\n",
    "    return L\n",
    "\n",
    "'''Esta funcion, dada una lista de m, genera una lista de la forma [(m, algo)], donde m indica \n",
    "el cuerpo finito Zm donde se encuentra el contenido de \"algo\". \n",
    "\"algo\" es a su vez una lista de la forma (i, algo2) donde i son todos los posibles elementos\n",
    "de Zm y algo2 es una tula de la forma ([orbita], longitud), con [orbita] la lista de todos\n",
    "los elementos de la orbita del elemento i de Zm, y longitud la longitud de esta orbita'''\n",
    "\n",
    "def orbitaspamuchosZm(emes, f):\n",
    "    L=[]\n",
    "    for item in emes:\n",
    "        L.append((item, orbitasZm(item,f)))\n",
    "    return L\n",
    "\n",
    "L2 = srange(1,)\n",
    "L = orbitaspamuchosZm(L2, f)\n",
    "\n",
    "''' Con estos bucles conseguimos una impresion de listas donde los elementos de la lista son:\n",
    "    L4[0] = m del Zm que miramos\n",
    "    L4[j>0] = longitud de la orbita de j-1 en Zm'''\n",
    "L3 = []\n",
    "for item in L:\n",
    "    L4 = []\n",
    "    L4.append(item[0])\n",
    "    for item2 in item[1]:\n",
    "        show(item2)\n",
    "        '''L4.append(item2[0])'''\n",
    "        '''L4.append(item2[1][1])'''\n",
    "    L3.append(L4)\n",
    "    \n",
    "#for item in L3:\n",
    " #   show(item)"
   ]
  },
  {
   "cell_type": "code",
   "execution_count": 37,
   "metadata": {
    "collapsed": false
   },
   "outputs": [
    {
     "data": {
      "image/png": "[encoded data removed]",
      "text/plain": [
       "Graphics object consisting of 1 graphics primitive"
      ]
     },
     "metadata": {},
     "output_type": "display_data"
    }
   ],
   "source": [
    "\n",
    "def f(x):\n",
    "    return sin(x)\n",
    "var('x y')\n",
    "recta = implicit_plot(y-diff(f(x),x)(0)*x,(x,-2,2),(y,-2,2)) \n",
    "show(recta)"
   ]
  },
  {
   "cell_type": "markdown",
   "metadata": {},
   "source": [
    "### Ej 3\n",
    "$\\text{Collatz}$\n"
   ]
  },
  {
   "cell_type": "code",
   "execution_count": 66,
   "metadata": {
    "collapsed": false
   },
   "outputs": [
    {
     "data": {
      "text/html": [
       "<html><script type=\"math/tex; mode=display\">\\newcommand{\\Bold}[1]{\\mathbf{#1}}\\mathrm{True}</script></html>"
      ],
      "text/plain": [
       "True"
      ]
     },
     "metadata": {},
     "output_type": "display_data"
    },
    {
     "name": "stdout",
     "output_type": "stream",
     "text": [
      "CPU times: user 16 ms, sys: 0 ns, total: 16 ms\n",
      "Wall time: 15.1 ms\n"
     ]
    },
    {
     "data": {
      "text/html": [
       "<html><script type=\"math/tex; mode=display\">\\newcommand{\\Bold}[1]{\\mathbf{#1}}\\left[-1, 0, 1, 7, 2, 5, 8, 16, 3, 19, 6, 14, 9, 9, 17, 17, 4, 12, 20, 20, 7, 7, 15, 15, 10, 23, 10, 111, 18, 18, 18, 106, 5, 26, 13, 13, 21, 21, 21, 34, 8, 109, 8, 29, 16, 16, 16, 104, 11, 24, 24, 24, 11, 11, 112, 112, 19, 32, 19, 32, 19, 19, 107, 107, 6, 27, 27, 27, 14, 14, 14, 102, 22, 115, 22, 14, 22, 22, 35, 35, 9, 22, 110, 110, 9, 9, 30, 30, 17, 30, 17, 92, 17, 17, 105, 105, 12, 118, 25, 25, 25\\right]</script></html>"
      ],
      "text/plain": [
       "[-1,\n",
       " 0,\n",
       " 1,\n",
       " 7,\n",
       " 2,\n",
       " 5,\n",
       " 8,\n",
       " 16,\n",
       " 3,\n",
       " 19,\n",
       " 6,\n",
       " 14,\n",
       " 9,\n",
       " 9,\n",
       " 17,\n",
       " 17,\n",
       " 4,\n",
       " 12,\n",
       " 20,\n",
       " 20,\n",
       " 7,\n",
       " 7,\n",
       " 15,\n",
       " 15,\n",
       " 10,\n",
       " 23,\n",
       " 10,\n",
       " 111,\n",
       " 18,\n",
       " 18,\n",
       " 18,\n",
       " 106,\n",
       " 5,\n",
       " 26,\n",
       " 13,\n",
       " 13,\n",
       " 21,\n",
       " 21,\n",
       " 21,\n",
       " 34,\n",
       " 8,\n",
       " 109,\n",
       " 8,\n",
       " 29,\n",
       " 16,\n",
       " 16,\n",
       " 16,\n",
       " 104,\n",
       " 11,\n",
       " 24,\n",
       " 24,\n",
       " 24,\n",
       " 11,\n",
       " 11,\n",
       " 112,\n",
       " 112,\n",
       " 19,\n",
       " 32,\n",
       " 19,\n",
       " 32,\n",
       " 19,\n",
       " 19,\n",
       " 107,\n",
       " 107,\n",
       " 6,\n",
       " 27,\n",
       " 27,\n",
       " 27,\n",
       " 14,\n",
       " 14,\n",
       " 14,\n",
       " 102,\n",
       " 22,\n",
       " 115,\n",
       " 22,\n",
       " 14,\n",
       " 22,\n",
       " 22,\n",
       " 35,\n",
       " 35,\n",
       " 9,\n",
       " 22,\n",
       " 110,\n",
       " 110,\n",
       " 9,\n",
       " 9,\n",
       " 30,\n",
       " 30,\n",
       " 17,\n",
       " 30,\n",
       " 17,\n",
       " 92,\n",
       " 17,\n",
       " 17,\n",
       " 105,\n",
       " 105,\n",
       " 12,\n",
       " 118,\n",
       " 25,\n",
       " 25,\n",
       " 25]"
      ]
     },
     "metadata": {},
     "output_type": "display_data"
    }
   ],
   "source": [
    "def orbita(ini, f):\n",
    "    L=[]\n",
    "    longitud = 0\n",
    "    while not (ini in L):\n",
    "        longitud += 1\n",
    "        L.append(ini)\n",
    "        ini = f(ini)\n",
    "    return L\n",
    "\n",
    "def collatz(n):\n",
    "    if n%2 == 0:\n",
    "        return n/2\n",
    "    else:\n",
    "        return 3*n + 1\n",
    "    \n",
    "def collatz_test(n):\n",
    "    for i in srange(n+1):\n",
    "        L = orbita(n, collatz)\n",
    "        if 1 not in L:\n",
    "            return False\n",
    "    return True\n",
    "\n",
    "show(collatz_test(100))\n",
    "\n",
    "\n",
    "def posicion_uno(n):\n",
    "    L = orbita(n, collatz)\n",
    "    return L.index(1)\n",
    "\n",
    "def lista_unos(n):\n",
    "    L = []\n",
    "    L.append(-1)\n",
    "    for i in srange(1, n+1):\n",
    "        L.append(posicion_uno(i))\n",
    "    return L\n",
    "%time L = lista_unos(100)        \n",
    "show(L)"
   ]
  },
  {
   "cell_type": "markdown",
   "metadata": {},
   "source": [
    "### Ej del final del tema\n",
    "2."
   ]
  },
  {
   "cell_type": "code",
   "execution_count": 61,
   "metadata": {
    "collapsed": false
   },
   "outputs": [
    {
     "data": {
      "text/html": [
       "<html><script type=\"math/tex; mode=display\">\\newcommand{\\Bold}[1]{\\mathbf{#1}}\\left[\\left(3, 5\\right), \\left(5, 7\\right), \\left(11, 13\\right), \\left(17, 19\\right), \\left(29, 31\\right)\\right]</script></html>"
      ],
      "text/plain": [
       "[(3, 5), (5, 7), (11, 13), (17, 19), (29, 31)]"
      ]
     },
     "metadata": {},
     "output_type": "display_data"
    }
   ],
   "source": [
    "def gemelos(n):\n",
    "    L = []\n",
    "    p = 2\n",
    "    while p < n+1:\n",
    "        if (next_prime(p) - p) == 2:\n",
    "            L.append((p, next_prime(p)))\n",
    "        p = next_prime(p)\n",
    "    return L\n",
    "\n",
    "show(gemelos(31))\n"
   ]
  },
  {
   "cell_type": "code",
   "execution_count": 65,
   "metadata": {
    "collapsed": false
   },
   "outputs": [
    {
     "data": {
      "text/plain": [
       "24"
      ]
     },
     "execution_count": 65,
     "metadata": {},
     "output_type": "execute_result"
    }
   ],
   "source": [
    "ZZ('40', 6)"
   ]
  },
  {
   "cell_type": "code",
   "execution_count": null,
   "metadata": {
    "collapsed": true
   },
   "outputs": [],
   "source": []
  }
 ],
 "metadata": {
  "kernelspec": {
   "display_name": "SageMath 7.3",
   "language": "",
   "name": "sagemath"
  },
  "language_info": {
   "codemirror_mode": {
    "name": "ipython",
    "version": 2
   },
   "file_extension": ".py",
   "mimetype": "text/x-python",
   "name": "python",
   "nbconvert_exporter": "python",
   "pygments_lexer": "ipython2",
   "version": "2.7.10"
  }
 },
 "nbformat": 4,
 "nbformat_minor": 0
}
