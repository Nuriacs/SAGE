{
 "cells": [
  {
   "cell_type": "markdown",
   "metadata": {},
   "source": [
    "2.  Encontrar la condición necesaria y suficiante para que existan infinitos múltiplos de un entero n que se escriban únicamente con unos en base10. Una vez encontrada hay que intentar demostrar la equivalencia. ¿Ocurrirá algo similar si queremos que infinitos múltiplos se escriban usando únicamente otro dı́gito (2 , 3, etc.)?"
   ]
  },
  {
   "cell_type": "code",
   "execution_count": 1,
   "metadata": {
    "collapsed": false
   },
   "outputs": [
    {
     "data": {
      "text/html": [
       "<html><script type=\"math/tex; mode=display\">\\newcommand{\\Bold}[1]{\\mathbf{#1}}\\frac{1}{9} \\cdot 10^{n + 1} - \\frac{1}{9}</script></html>"
      ],
      "text/plain": [
       "1/9*10^(n + 1) - 1/9"
      ]
     },
     "metadata": {},
     "output_type": "display_data"
    }
   ],
   "source": [
    "var ('i z k n zmax kmax')\n",
    "suma = sum(10^i, i, 0, n)\n",
    "show(suma)"
   ]
  },
  {
   "cell_type": "markdown",
   "metadata": {},
   "source": [
    "Dado un entero z, debemos buscar infinitos multiplos de esa forma: k×z = (10^(n+1)−1)/9\n",
    "Me interesa crear una lista con los z que podrían cumplirlo"
   ]
  },
  {
   "cell_type": "code",
   "execution_count": 2,
   "metadata": {
    "collapsed": false
   },
   "outputs": [],
   "source": [
    "zmax = 50\n",
    "kmax = 20000\n",
    "L1 = []\n",
    "for z in srange(1, zmax):\n",
    "    for k in srange(1, kmax):\n",
    "        n = log_b(9*k*z + 1,10) -1\n",
    "        if(n in ZZ):\n",
    "            L1.append((z,k,z*k))"
   ]
  },
  {
   "cell_type": "code",
   "execution_count": 6,
   "metadata": {
    "collapsed": false
   },
   "outputs": [
    {
     "data": {
      "text/plain": [
       "[(1, 1, 1),\n",
       " (1, 11, 11),\n",
       " (1, 111, 111),\n",
       " (1, 1111, 1111),\n",
       " (1, 11111, 11111),\n",
       " (3, 37, 111),\n",
       " (7, 15873, 111111),\n",
       " (11, 1, 11),\n",
       " (11, 101, 1111),\n",
       " (11, 10101, 111111),\n",
       " (13, 8547, 111111),\n",
       " (21, 5291, 111111),\n",
       " (33, 3367, 111111),\n",
       " (37, 3, 111),\n",
       " (37, 3003, 111111),\n",
       " (39, 2849, 111111),\n",
       " (41, 271, 11111)]"
      ]
     },
     "execution_count": 6,
     "metadata": {},
     "output_type": "execute_result"
    }
   ],
   "source": [
    "L1\n"
   ]
  },
  {
   "cell_type": "code",
   "execution_count": null,
   "metadata": {
    "collapsed": true
   },
   "outputs": [],
   "source": []
  }
 ],
 "metadata": {
  "kernelspec": {
   "display_name": "SageMath 7.3",
   "language": "",
   "name": "sagemath"
  },
  "language_info": {
   "codemirror_mode": {
    "name": "ipython",
    "version": 2
   },
   "file_extension": ".py",
   "mimetype": "text/x-python",
   "name": "python",
   "nbconvert_exporter": "python",
   "pygments_lexer": "ipython2",
   "version": "2.7.10"
  }
 },
 "nbformat": 4,
 "nbformat_minor": 0
}
