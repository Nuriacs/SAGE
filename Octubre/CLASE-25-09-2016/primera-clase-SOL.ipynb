{
 "cells": [
  {
   "cell_type": "markdown",
   "metadata": {},
   "source": [
    "### ¿Qué enteros primos $p$ se pueden representar como suma de dos cuadrados  de enteros?"
   ]
  },
  {
   "cell_type": "code",
   "execution_count": 2,
   "metadata": {
    "collapsed": false
   },
   "outputs": [
    {
     "name": "stdout",
     "output_type": "stream",
     "text": [
      "CPU times: user 16 ms, sys: 4 ms, total: 20 ms\n",
      "Wall time: 15.7 ms\n"
     ]
    }
   ],
   "source": [
    "time L = [(x,y,x**2+y**2) for x in srange(100) for y in srange(100) if is_prime(x**2+y**2)]"
   ]
  },
  {
   "cell_type": "code",
   "execution_count": 3,
   "metadata": {
    "collapsed": false
   },
   "outputs": [
    {
     "name": "stdout",
     "output_type": "stream",
     "text": [
      "CPU times: user 1.19 s, sys: 48 ms, total: 1.24 s\n",
      "Wall time: 1.19 s\n"
     ]
    }
   ],
   "source": [
    "time L2 = [(x,y,x**2+y**2) for x in srange(1000) for y in srange(1000) if is_prime(x**2+y**2)]"
   ]
  },
  {
   "cell_type": "code",
   "execution_count": 4,
   "metadata": {
    "collapsed": false
   },
   "outputs": [
    {
     "name": "stdout",
     "output_type": "stream",
     "text": [
      "CPU times: user 1min 58s, sys: 752 ms, total: 1min 59s\n",
      "Wall time: 1min 58s\n"
     ]
    }
   ],
   "source": [
    "time L3 = [(x,y,x**2+y**2) for x in srange(10000) for y in srange(10000) if is_prime(x**2+y**2)]"
   ]
  },
  {
   "cell_type": "code",
   "execution_count": 5,
   "metadata": {
    "collapsed": false
   },
   "outputs": [
    {
     "data": {
      "text/plain": [
       "199900013"
      ]
     },
     "execution_count": 5,
     "metadata": {},
     "output_type": "execute_result"
    }
   ],
   "source": [
    "max([item[2] for item in L3])"
   ]
  },
  {
   "cell_type": "code",
   "execution_count": 6,
   "metadata": {
    "collapsed": false
   },
   "outputs": [
    {
     "data": {
      "text/plain": [
       "11073632"
      ]
     },
     "execution_count": 6,
     "metadata": {},
     "output_type": "execute_result"
    }
   ],
   "source": [
    "len(prime_range(2,199900013))"
   ]
  },
  {
   "cell_type": "markdown",
   "metadata": {},
   "source": [
    "<span style=\"color:red\">En contra de lo que afirmé durante la clase, </span> no conviene usar una lista de primos para iterar sobre ella. El motivo es que en $L3$ estamos calculando soluciones con $x$ e $y$ entre cero y $10^4$, es decir hacemos $10^8$ pruebas para encontrar soluciones.\n",
    "Si primero generamos una lista que contenga todos los primos hasta el mayor obtenido en $L3$ (celda 4), obtenemos algo más de $11$ millones de primos, y luego debemos usar $10^4$ posibles valores de $x$, luego un total de más de $10^{11}$ pruebas. El factor de $1000$ ($10^{11}/10^8=10^3$) que obtenemos indica que iterando primero sobre la lista de primos y luego sobre la de valores de $x$, el proceso total puede tardar del orden de $2000$ minutos. "
   ]
  },
  {
   "cell_type": "code",
   "execution_count": 7,
   "metadata": {
    "collapsed": false,
    "scrolled": true
   },
   "outputs": [
    {
     "data": {
      "text/html": [
       "<html><script type=\"math/tex; mode=display\">\\newcommand{\\Bold}[1]{\\mathbf{#1}}\\left[2, 5, 13, 17, 29, 37, 41, 53, 61, 73, 89, 97, 101, 109, 113, 137, 149, 157, 173, 181, 193, 197, 229, 233, 241, 257, 269, 277, 281, 293, 313, 317, 337, 349, 353, 373, 389, 397, 401, 409, 421, 433, 449, 457, 461, 509, 521, 541, 557, 569\\right]</script></html>"
      ],
      "text/plain": [
       "[2,\n",
       " 5,\n",
       " 13,\n",
       " 17,\n",
       " 29,\n",
       " 37,\n",
       " 41,\n",
       " 53,\n",
       " 61,\n",
       " 73,\n",
       " 89,\n",
       " 97,\n",
       " 101,\n",
       " 109,\n",
       " 113,\n",
       " 137,\n",
       " 149,\n",
       " 157,\n",
       " 173,\n",
       " 181,\n",
       " 193,\n",
       " 197,\n",
       " 229,\n",
       " 233,\n",
       " 241,\n",
       " 257,\n",
       " 269,\n",
       " 277,\n",
       " 281,\n",
       " 293,\n",
       " 313,\n",
       " 317,\n",
       " 337,\n",
       " 349,\n",
       " 353,\n",
       " 373,\n",
       " 389,\n",
       " 397,\n",
       " 401,\n",
       " 409,\n",
       " 421,\n",
       " 433,\n",
       " 449,\n",
       " 457,\n",
       " 461,\n",
       " 509,\n",
       " 521,\n",
       " 541,\n",
       " 557,\n",
       " 569]"
      ]
     },
     "metadata": {},
     "output_type": "display_data"
    }
   ],
   "source": [
    "L4 = [item[2] for item in L] #La lista de primos obtenida\n",
    "L5=list(set(L4)) # Set convierte la lista en conjunto, desaparecen las repeticiones, \n",
    "## y list vuelve a dar una lista que ya sin repeticiones\n",
    "L5.sort() # Ordena la lista L5 pero se pierde el valor original de L5\n",
    "show(L5[0:50]) # Los 50, primeros elementos "
   ]
  },
  {
   "cell_type": "code",
   "execution_count": 8,
   "metadata": {
    "collapsed": false
   },
   "outputs": [
    {
     "data": {
      "text/html": [
       "<html><script type=\"math/tex; mode=display\">\\newcommand{\\Bold}[1]{\\mathbf{#1}}\\left[1, 2^{2}, 2^{2} \\cdot 3, 2^{4}, 2^{2} \\cdot 7, 2^{2} \\cdot 3^{2}, 2^{3} \\cdot 5, 2^{2} \\cdot 13, 2^{2} \\cdot 3 \\cdot 5, 2^{3} \\cdot 3^{2}, 2^{3} \\cdot 11, 2^{5} \\cdot 3, 2^{2} \\cdot 5^{2}, 2^{2} \\cdot 3^{3}, 2^{4} \\cdot 7, 2^{3} \\cdot 17, 2^{2} \\cdot 37, 2^{2} \\cdot 3 \\cdot 13, 2^{2} \\cdot 43, 2^{2} \\cdot 3^{2} \\cdot 5, 2^{6} \\cdot 3, 2^{2} \\cdot 7^{2}, 2^{2} \\cdot 3 \\cdot 19, 2^{3} \\cdot 29, 2^{4} \\cdot 3 \\cdot 5, 2^{8}, 2^{2} \\cdot 67, 2^{2} \\cdot 3 \\cdot 23, 2^{3} \\cdot 5 \\cdot 7, 2^{2} \\cdot 73, 2^{3} \\cdot 3 \\cdot 13, 2^{2} \\cdot 79, 2^{4} \\cdot 3 \\cdot 7, 2^{2} \\cdot 3 \\cdot 29, 2^{5} \\cdot 11, 2^{2} \\cdot 3 \\cdot 31, 2^{2} \\cdot 97, 2^{2} \\cdot 3^{2} \\cdot 11, 2^{4} \\cdot 5^{2}, 2^{3} \\cdot 3 \\cdot 17, 2^{2} \\cdot 3 \\cdot 5 \\cdot 7, 2^{4} \\cdot 3^{3}, 2^{6} \\cdot 7, 2^{3} \\cdot 3 \\cdot 19, 2^{2} \\cdot 5 \\cdot 23, 2^{2} \\cdot 127, 2^{3} \\cdot 5 \\cdot 13, 2^{2} \\cdot 3^{3} \\cdot 5, 2^{2} \\cdot 139, 2^{3} \\cdot 71\\right]</script></html>"
      ],
      "text/plain": [
       "[1,\n",
       " 2^2,\n",
       " 2^2 * 3,\n",
       " 2^4,\n",
       " 2^2 * 7,\n",
       " 2^2 * 3^2,\n",
       " 2^3 * 5,\n",
       " 2^2 * 13,\n",
       " 2^2 * 3 * 5,\n",
       " 2^3 * 3^2,\n",
       " 2^3 * 11,\n",
       " 2^5 * 3,\n",
       " 2^2 * 5^2,\n",
       " 2^2 * 3^3,\n",
       " 2^4 * 7,\n",
       " 2^3 * 17,\n",
       " 2^2 * 37,\n",
       " 2^2 * 3 * 13,\n",
       " 2^2 * 43,\n",
       " 2^2 * 3^2 * 5,\n",
       " 2^6 * 3,\n",
       " 2^2 * 7^2,\n",
       " 2^2 * 3 * 19,\n",
       " 2^3 * 29,\n",
       " 2^4 * 3 * 5,\n",
       " 2^8,\n",
       " 2^2 * 67,\n",
       " 2^2 * 3 * 23,\n",
       " 2^3 * 5 * 7,\n",
       " 2^2 * 73,\n",
       " 2^3 * 3 * 13,\n",
       " 2^2 * 79,\n",
       " 2^4 * 3 * 7,\n",
       " 2^2 * 3 * 29,\n",
       " 2^5 * 11,\n",
       " 2^2 * 3 * 31,\n",
       " 2^2 * 97,\n",
       " 2^2 * 3^2 * 11,\n",
       " 2^4 * 5^2,\n",
       " 2^3 * 3 * 17,\n",
       " 2^2 * 3 * 5 * 7,\n",
       " 2^4 * 3^3,\n",
       " 2^6 * 7,\n",
       " 2^3 * 3 * 19,\n",
       " 2^2 * 5 * 23,\n",
       " 2^2 * 127,\n",
       " 2^3 * 5 * 13,\n",
       " 2^2 * 3^3 * 5,\n",
       " 2^2 * 139,\n",
       " 2^3 * 71]"
      ]
     },
     "metadata": {},
     "output_type": "display_data"
    }
   ],
   "source": [
    "L6 = [factor(item-1) for item in L5]\n",
    "'''Factor item-1 porque esta interesado en ver que todos los antecesores de los primos de la lista son multiplos de 4'''\n",
    "show(L6[0:50])"
   ]
  },
  {
   "cell_type": "code",
   "execution_count": 4,
   "metadata": {
    "collapsed": false
   },
   "outputs": [
    {
     "data": {
      "text/html": [
       "<html><script type=\"math/tex; mode=display\">\\newcommand{\\Bold}[1]{\\mathbf{#1}}\\left[0, 1\\right]</script></html>"
      ],
      "text/plain": [
       "[0, 1]"
      ]
     },
     "metadata": {},
     "output_type": "display_data"
    }
   ],
   "source": [
    "L7 = [(item-1)%4 for item in L5]\n",
    "L8=list(set(L7))\n",
    "L8.sort()\n",
    "show(L8)"
   ]
  },
  {
   "cell_type": "markdown",
   "metadata": {},
   "source": [
    "Menos el primer primo obtenido, que es $2$, todos los demás son, después de restarles $1$, múltiplos de $4$. ¿Qué ocurre si sumamos $1$ a todos los primos obtenidos?"
   ]
  },
  {
   "cell_type": "code",
   "execution_count": 9,
   "metadata": {
    "collapsed": false
   },
   "outputs": [
    {
     "data": {
      "text/html": [
       "<html><script type=\"math/tex; mode=display\">\\newcommand{\\Bold}[1]{\\mathbf{#1}}\\left[3, 2 \\cdot 3, 2 \\cdot 7, 2 \\cdot 3^{2}, 2 \\cdot 3 \\cdot 5, 2 \\cdot 19, 2 \\cdot 3 \\cdot 7, 2 \\cdot 3^{3}, 2 \\cdot 31, 2 \\cdot 37, 2 \\cdot 3^{2} \\cdot 5, 2 \\cdot 7^{2}, 2 \\cdot 3 \\cdot 17, 2 \\cdot 5 \\cdot 11, 2 \\cdot 3 \\cdot 19, 2 \\cdot 3 \\cdot 23, 2 \\cdot 3 \\cdot 5^{2}, 2 \\cdot 79, 2 \\cdot 3 \\cdot 29, 2 \\cdot 7 \\cdot 13, 2 \\cdot 97, 2 \\cdot 3^{2} \\cdot 11, 2 \\cdot 5 \\cdot 23, 2 \\cdot 3^{2} \\cdot 13, 2 \\cdot 11^{2}, 2 \\cdot 3 \\cdot 43, 2 \\cdot 3^{3} \\cdot 5, 2 \\cdot 139, 2 \\cdot 3 \\cdot 47, 2 \\cdot 3 \\cdot 7^{2}, 2 \\cdot 157, 2 \\cdot 3 \\cdot 53, 2 \\cdot 13^{2}, 2 \\cdot 5^{2} \\cdot 7, 2 \\cdot 3 \\cdot 59, 2 \\cdot 11 \\cdot 17, 2 \\cdot 3 \\cdot 5 \\cdot 13, 2 \\cdot 199, 2 \\cdot 3 \\cdot 67, 2 \\cdot 5 \\cdot 41, 2 \\cdot 211, 2 \\cdot 7 \\cdot 31, 2 \\cdot 3^{2} \\cdot 5^{2}, 2 \\cdot 229, 2 \\cdot 3 \\cdot 7 \\cdot 11, 2 \\cdot 3 \\cdot 5 \\cdot 17, 2 \\cdot 3^{2} \\cdot 29, 2 \\cdot 271, 2 \\cdot 3^{2} \\cdot 31, 2 \\cdot 3 \\cdot 5 \\cdot 19\\right]</script></html>"
      ],
      "text/plain": [
       "[3,\n",
       " 2 * 3,\n",
       " 2 * 7,\n",
       " 2 * 3^2,\n",
       " 2 * 3 * 5,\n",
       " 2 * 19,\n",
       " 2 * 3 * 7,\n",
       " 2 * 3^3,\n",
       " 2 * 31,\n",
       " 2 * 37,\n",
       " 2 * 3^2 * 5,\n",
       " 2 * 7^2,\n",
       " 2 * 3 * 17,\n",
       " 2 * 5 * 11,\n",
       " 2 * 3 * 19,\n",
       " 2 * 3 * 23,\n",
       " 2 * 3 * 5^2,\n",
       " 2 * 79,\n",
       " 2 * 3 * 29,\n",
       " 2 * 7 * 13,\n",
       " 2 * 97,\n",
       " 2 * 3^2 * 11,\n",
       " 2 * 5 * 23,\n",
       " 2 * 3^2 * 13,\n",
       " 2 * 11^2,\n",
       " 2 * 3 * 43,\n",
       " 2 * 3^3 * 5,\n",
       " 2 * 139,\n",
       " 2 * 3 * 47,\n",
       " 2 * 3 * 7^2,\n",
       " 2 * 157,\n",
       " 2 * 3 * 53,\n",
       " 2 * 13^2,\n",
       " 2 * 5^2 * 7,\n",
       " 2 * 3 * 59,\n",
       " 2 * 11 * 17,\n",
       " 2 * 3 * 5 * 13,\n",
       " 2 * 199,\n",
       " 2 * 3 * 67,\n",
       " 2 * 5 * 41,\n",
       " 2 * 211,\n",
       " 2 * 7 * 31,\n",
       " 2 * 3^2 * 5^2,\n",
       " 2 * 229,\n",
       " 2 * 3 * 7 * 11,\n",
       " 2 * 3 * 5 * 17,\n",
       " 2 * 3^2 * 29,\n",
       " 2 * 271,\n",
       " 2 * 3^2 * 31,\n",
       " 2 * 3 * 5 * 19]"
      ]
     },
     "metadata": {},
     "output_type": "display_data"
    }
   ],
   "source": [
    "L9 = [factor(item+1) for item in L5]\n",
    "show(L9[0:50])"
   ]
  },
  {
   "cell_type": "markdown",
   "metadata": {},
   "source": [
    "Vemos que se obtiene el producto de $2$ por un impar, de forma que $p+1$ no es múltiplo de $4$. En cambio, los primos que se escriben como $4k+3$, cuando les sumamos $1$, resultan múltiplos de $4$. Entonces, podemos distinguir entre los primos que son suma de dos cuadrados y los que no lo son sumando o restando una unidad al primo y tomando el resto módulo $4$."
   ]
  },
  {
   "cell_type": "markdown",
   "metadata": {},
   "source": [
    "### ¿Cuántos ceros hay al final de $100!$?"
   ]
  },
  {
   "cell_type": "code",
   "execution_count": 10,
   "metadata": {
    "collapsed": true
   },
   "outputs": [],
   "source": [
    "def contar_ceros(n):\n",
    "    N = factorial(n)\n",
    "    k=0\n",
    "    while N%10**k == 0:\n",
    "        k += 1\n",
    "    return k"
   ]
  },
  {
   "cell_type": "code",
   "execution_count": 11,
   "metadata": {
    "collapsed": false
   },
   "outputs": [
    {
     "name": "stdout",
     "output_type": "stream",
     "text": [
      "CPU times: user 0 ns, sys: 0 ns, total: 0 ns\n",
      "Wall time: 73 µs\n"
     ]
    },
    {
     "data": {
      "text/plain": [
       "25"
      ]
     },
     "execution_count": 11,
     "metadata": {},
     "output_type": "execute_result"
    }
   ],
   "source": [
    "time contar_ceros(100)"
   ]
  },
  {
   "cell_type": "code",
   "execution_count": 12,
   "metadata": {
    "collapsed": false
   },
   "outputs": [
    {
     "name": "stdout",
     "output_type": "stream",
     "text": [
      "CPU times: user 0 ns, sys: 0 ns, total: 0 ns\n",
      "Wall time: 162 µs\n"
     ]
    },
    {
     "data": {
      "text/plain": [
       "90"
      ]
     },
     "execution_count": 12,
     "metadata": {},
     "output_type": "execute_result"
    }
   ],
   "source": [
    "time contar_ceros(365)"
   ]
  },
  {
   "cell_type": "code",
   "execution_count": 13,
   "metadata": {
    "collapsed": true
   },
   "outputs": [],
   "source": [
    "def contar(n,m):\n",
    "    N = factorial(n)\n",
    "    k=0\n",
    "    while N%m**k == 0:\n",
    "        k += 1\n",
    "    return k"
   ]
  },
  {
   "cell_type": "code",
   "execution_count": 14,
   "metadata": {
    "collapsed": false
   },
   "outputs": [
    {
     "data": {
      "text/plain": [
       "98"
      ]
     },
     "execution_count": 14,
     "metadata": {},
     "output_type": "execute_result"
    }
   ],
   "source": [
    "contar(100,2)"
   ]
  },
  {
   "cell_type": "code",
   "execution_count": 15,
   "metadata": {
    "collapsed": false
   },
   "outputs": [
    {
     "data": {
      "text/plain": [
       "25"
      ]
     },
     "execution_count": 15,
     "metadata": {},
     "output_type": "execute_result"
    }
   ],
   "source": [
    "contar(100,5)"
   ]
  },
  {
   "cell_type": "code",
   "execution_count": 16,
   "metadata": {
    "collapsed": false
   },
   "outputs": [
    {
     "data": {
      "text/plain": [
       "360"
      ]
     },
     "execution_count": 16,
     "metadata": {},
     "output_type": "execute_result"
    }
   ],
   "source": [
    "contar(365,2)"
   ]
  },
  {
   "cell_type": "code",
   "execution_count": 17,
   "metadata": {
    "collapsed": false
   },
   "outputs": [
    {
     "data": {
      "text/plain": [
       "90"
      ]
     },
     "execution_count": 17,
     "metadata": {},
     "output_type": "execute_result"
    }
   ],
   "source": [
    "contar(365,5)"
   ]
  },
  {
   "cell_type": "markdown",
   "metadata": {},
   "source": [
    "## ¿Cuál es el $n$ menor tal que el número de mi DNI está contenido en factorial de $n$?\n",
    "\n",
    "Supongamos que mi DNI es 12345678."
   ]
  },
  {
   "cell_type": "code",
   "execution_count": 18,
   "metadata": {
    "collapsed": false
   },
   "outputs": [
    {
     "data": {
      "text/plain": [
       "True"
      ]
     },
     "execution_count": 18,
     "metadata": {},
     "output_type": "execute_result"
    }
   ],
   "source": [
    "'1234' in '012345'"
   ]
  },
  {
   "cell_type": "code",
   "execution_count": 19,
   "metadata": {
    "collapsed": false
   },
   "outputs": [
    {
     "data": {
      "text/plain": [
       "False"
      ]
     },
     "execution_count": 19,
     "metadata": {},
     "output_type": "execute_result"
    }
   ],
   "source": [
    "'124' in '012345'"
   ]
  },
  {
   "cell_type": "code",
   "execution_count": 20,
   "metadata": {
    "collapsed": true
   },
   "outputs": [],
   "source": [
    "def dni(N):\n",
    "    k = 1\n",
    "    C = str(N)\n",
    "    C1 = str(factorial(k))\n",
    "    while not C in C1:\n",
    "        k += 1\n",
    "        C1 = str(factorial(k))\n",
    "    return k"
   ]
  },
  {
   "cell_type": "code",
   "execution_count": 21,
   "metadata": {
    "collapsed": false
   },
   "outputs": [
    {
     "name": "stdout",
     "output_type": "stream",
     "text": [
      "CPU times: user 8.91 s, sys: 24 ms, total: 8.94 s\n",
      "Wall time: 8.96 s\n"
     ]
    },
    {
     "data": {
      "text/plain": [
       "9135"
      ]
     },
     "execution_count": 21,
     "metadata": {},
     "output_type": "execute_result"
    }
   ],
   "source": [
    "time dni(12345678)"
   ]
  },
  {
   "cell_type": "code",
   "execution_count": 22,
   "metadata": {
    "collapsed": false
   },
   "outputs": [
    {
     "data": {
      "text/plain": [
       "True"
      ]
     },
     "execution_count": 22,
     "metadata": {},
     "output_type": "execute_result"
    }
   ],
   "source": [
    "'12345678' in str(factorial(9135))"
   ]
  },
  {
   "cell_type": "code",
   "execution_count": 23,
   "metadata": {
    "collapsed": false
   },
   "outputs": [
    {
     "data": {
      "text/plain": [
       "11407"
      ]
     },
     "execution_count": 23,
     "metadata": {},
     "output_type": "execute_result"
    }
   ],
   "source": [
    "str(factorial(9135)).index('12345678')"
   ]
  },
  {
   "cell_type": "code",
   "execution_count": 24,
   "metadata": {
    "collapsed": false
   },
   "outputs": [
    {
     "data": {
      "text/plain": [
       "'12345678'"
      ]
     },
     "execution_count": 24,
     "metadata": {},
     "output_type": "execute_result"
    }
   ],
   "source": [
    "str(factorial(9135))[11407:11415]"
   ]
  },
  {
   "cell_type": "markdown",
   "metadata": {},
   "source": [
    "## ¿Es cierto que la suma $1! + 2! + 3! + · · · + n!$ no puede ser un cuadrado si $n \\ge 4$?"
   ]
  },
  {
   "cell_type": "code",
   "execution_count": 25,
   "metadata": {
    "collapsed": true
   },
   "outputs": [],
   "source": [
    "def suma(n):\n",
    "    suma = 0\n",
    "    for i in xsrange(1,n+1):\n",
    "        suma += factorial(i)\n",
    "    return suma"
   ]
  },
  {
   "cell_type": "code",
   "execution_count": 26,
   "metadata": {
    "collapsed": false
   },
   "outputs": [
    {
     "data": {
      "text/plain": [
       "[]"
      ]
     },
     "execution_count": 26,
     "metadata": {},
     "output_type": "execute_result"
    }
   ],
   "source": [
    "[n for n in srange(4,100) if is_square(suma(n))]"
   ]
  },
  {
   "cell_type": "code",
   "execution_count": 27,
   "metadata": {
    "collapsed": false
   },
   "outputs": [
    {
     "data": {
      "text/plain": [
       "[]"
      ]
     },
     "execution_count": 27,
     "metadata": {},
     "output_type": "execute_result"
    }
   ],
   "source": [
    "[n for n in srange(4,1000) if is_square(suma(n))]"
   ]
  },
  {
   "cell_type": "code",
   "execution_count": 28,
   "metadata": {
    "collapsed": false
   },
   "outputs": [
    {
     "data": {
      "text/plain": [
       "[[(3, 1), (11, 1)],\n",
       " [(3, 2), (17, 1)],\n",
       " [(3, 2), (97, 1)],\n",
       " [(3, 4), (73, 1)],\n",
       " [(3, 2), (11, 1), (467, 1)],\n",
       " [(3, 2), (131, 1), (347, 1)],\n",
       " [(3, 2), (11, 1), (40787, 1)],\n",
       " [(3, 2), (11, 1), (443987, 1)],\n",
       " [(3, 2), (11, 2), (23, 1), (20879, 1)],\n",
       " [(3, 2), (11, 1), (821, 1), (83047, 1)],\n",
       " [(3, 2), (11, 1), (2789, 1), (340183, 1)],\n",
       " [(3, 2), (11, 1), (107, 1), (509, 1), (259949, 1)],\n",
       " [(3, 2), (11, 1), (225498914387, 1)],\n",
       " [(3, 2), (11, 1), (163, 1), (20143, 1), (1162943, 1)],\n",
       " [(3, 2), (11, 1), (19727, 1), (3471827581, 1)],\n",
       " [(3, 2), (11, 1), (29, 1), (43, 1), (1621, 1), (641751001, 1)],\n",
       " [(3, 2), (11, 2), (53, 1), (67, 1), (662348503367, 1)],\n",
       " [(3, 2), (11, 1), (877, 1), (3203, 1), (41051, 1), (4699727, 1)],\n",
       " [(3, 2), (11, 1), (11895484822660898387, 1)],\n",
       " [(3, 2), (11, 1), (139, 1), (2129333, 1), (922459185301, 1)],\n",
       " [(3, 2), (11, 1), (37, 2), (29131483, 1), (163992440081, 1)],\n",
       " [(3, 2), (11, 1), (454823, 1), (519472957, 1), (690821017, 1)],\n",
       " [(3, 2),\n",
       "  (11, 1),\n",
       "  (107, 1),\n",
       "  (173, 1),\n",
       "  (7823, 1),\n",
       "  (12227, 1),\n",
       "  (1281439, 1),\n",
       "  (1867343, 1)],\n",
       " [(3, 2), (11, 1), (431363, 1), (2882477797, 1), (91865833117, 1)],\n",
       " [(3, 2), (11, 1), (191, 1), (47793258077, 1), (349882390108241, 1)],\n",
       " [(3, 2), (11, 1), (37, 1), (283, 1), (5087, 1), (1736655143086866180331, 1)],\n",
       " [(3, 2), (11, 1), (2771826449193354891007108898387, 1)],\n",
       " [(3, 2), (11, 1), (1231547, 1), (306730217, 1), (227214279676815713, 1)],\n",
       " [(3, 2),\n",
       "  (11, 1),\n",
       "  (41, 1),\n",
       "  (163, 1),\n",
       "  (224677, 1),\n",
       "  (278437, 1),\n",
       "  (6562698554476756561, 1)],\n",
       " [(3, 2),\n",
       "  (11, 1),\n",
       "  (109, 1),\n",
       "  (839, 1),\n",
       "  (2819, 1),\n",
       "  (40597679, 1),\n",
       "  (8642572321688037037, 1)],\n",
       " [(3, 2), (11, 1), (3072603482270933019578343003268898387, 1)],\n",
       " [(3, 2), (11, 1), (7523968684626643, 1), (14280739323850758510209, 1)],\n",
       " [(3, 2), (11, 1), (542410073, 1), (7125524357434108671946525659019, 1)],\n",
       " [(3, 2),\n",
       "  (11, 1),\n",
       "  (379, 1),\n",
       "  (2677, 1),\n",
       "  (5685998930867, 1),\n",
       "  (24769422762368668966567, 1)],\n",
       " [(3, 2),\n",
       "  (11, 1),\n",
       "  (127, 1),\n",
       "  (338944799, 1),\n",
       "  (126050058872020979628982810240819, 1)],\n",
       " [(3, 2), (11, 1), (956042657, 1), (221187999196843747210838711867563891, 1)],\n",
       " [(3, 2), (11, 1), (8453033680104197032254976173172281742468898387, 1)],\n",
       " [(3, 2),\n",
       "  (11, 1),\n",
       "  (1652359939, 1),\n",
       "  (276306566079013, 1),\n",
       "  (758627421394906687355741, 1)],\n",
       " [(3, 2), (11, 1), (14538338330306808294520261726657539166606468898387, 1)],\n",
       " [(3, 2),\n",
       "  (11, 1),\n",
       "  (134593, 1),\n",
       "  (4642095211404964451264304571909393120971331859, 1)],\n",
       " [(3, 2),\n",
       "  (11, 1),\n",
       "  (467, 1),\n",
       "  (389132347, 1),\n",
       "  (4228337353, 1),\n",
       "  (35757735254503278958283094266971, 1)],\n",
       " [(3, 2),\n",
       "  (11, 1),\n",
       "  (2663, 1),\n",
       "  (95401, 1),\n",
       "  (410811827, 1),\n",
       "  (7771244856041, 1),\n",
       "  (1523645693711902928107207, 1)],\n",
       " [(3, 2),\n",
       "  (11, 1),\n",
       "  (53, 1),\n",
       "  (18701, 1),\n",
       "  (57324977375965527296659921321353312523677172794179, 1)],\n",
       " [(3, 2),\n",
       "  (11, 1),\n",
       "  (2669173798161405013235902281639968551981897699726468898387, 1)],\n",
       " [(3, 2),\n",
       "  (11, 1),\n",
       "  (12890567, 1),\n",
       "  (1801778789, 1),\n",
       "  (5513757650189196992316484862420099904107249, 1)],\n",
       " [(3, 2),\n",
       "  (11, 1),\n",
       "  (6272323513462844572115402087823748573865863895011726468898387, 1)]]"
      ]
     },
     "execution_count": 28,
     "metadata": {},
     "output_type": "execute_result"
    }
   ],
   "source": [
    "[list(factor(suma(n))) for n in srange(4,50)]"
   ]
  },
  {
   "cell_type": "markdown",
   "metadata": {},
   "source": [
    "Parece que para casi todos los $n$ la suma admite un factor $11$ con exponente $1$, y por tanto no puede ser un cuadrado."
   ]
  },
  {
   "cell_type": "code",
   "execution_count": 29,
   "metadata": {
    "collapsed": false
   },
   "outputs": [
    {
     "name": "stdout",
     "output_type": "stream",
     "text": [
      "CPU times: user 1.03 s, sys: 36 ms, total: 1.07 s\n",
      "Wall time: 1.07 s\n"
     ]
    },
    {
     "data": {
      "text/plain": [
       "[5, 6, 7, 9, 12, 20]"
      ]
     },
     "execution_count": 29,
     "metadata": {},
     "output_type": "execute_result"
    }
   ],
   "source": [
    "time [n for n in srange(4,50) if not (11,1) in list(factor(suma(n)))]"
   ]
  },
  {
   "cell_type": "code",
   "execution_count": 30,
   "metadata": {
    "collapsed": false
   },
   "outputs": [
    {
     "name": "stdout",
     "output_type": "stream",
     "text": [
      "CPU times: user 2.22 s, sys: 48 ms, total: 2.27 s\n",
      "Wall time: 2.2 s\n"
     ]
    },
    {
     "data": {
      "text/plain": [
       "[5, 6, 7, 9]"
      ]
     },
     "execution_count": 30,
     "metadata": {},
     "output_type": "execute_result"
    }
   ],
   "source": [
    "time [n for n in srange(4,1000) if not suma(n)%11==0]"
   ]
  },
  {
   "cell_type": "markdown",
   "metadata": {},
   "source": [
    "Vemos que es cierto que, salvo unas cuantas excepciones, siempre se obtiene un múltiplo de $11$. ¿Cuál es el motivo?\n",
    "Desde que sumamos el factorial de un $n$ mayor que $10$, todos los sumandos tienen $11$ como factor, de forma que basta comprobar que $suma(10)$ es múltiplo de $11$:"
   ]
  },
  {
   "cell_type": "code",
   "execution_count": 31,
   "metadata": {
    "collapsed": false
   },
   "outputs": [
    {
     "data": {
      "text/plain": [
       "0"
      ]
     },
     "execution_count": 31,
     "metadata": {},
     "output_type": "execute_result"
    }
   ],
   "source": [
    "suma(10)%11"
   ]
  },
  {
   "cell_type": "markdown",
   "metadata": {},
   "source": [
    "Ahora queremos ver que el exponente del $11$ en la factorización es $1$, es decir que $suma(n)$ no es divisible entre $11^2=121$, para $n$ suficientemente grande. "
   ]
  },
  {
   "cell_type": "code",
   "execution_count": 32,
   "metadata": {
    "collapsed": false
   },
   "outputs": [
    {
     "data": {
      "text/plain": [
       "[12, 20]"
      ]
     },
     "execution_count": 32,
     "metadata": {},
     "output_type": "execute_result"
    }
   ],
   "source": [
    "[n for n in srange(4,1000) if  suma(n)%121==0]"
   ]
  },
  {
   "cell_type": "code",
   "execution_count": 33,
   "metadata": {
    "collapsed": false
   },
   "outputs": [
    {
     "data": {
      "text/plain": [
       "11"
      ]
     },
     "execution_count": 33,
     "metadata": {},
     "output_type": "execute_result"
    }
   ],
   "source": [
    "suma(120)%121"
   ]
  },
  {
   "cell_type": "markdown",
   "metadata": {},
   "source": [
    "El mismo argumento que antes, indica que como $suma(120)$ no es divisible entre $121$, y todos los demás factoriales que sumamos, desde el de $121$ son múltiplos de $121$, podemos concluir que $suma(n)$ no es divisible entre $121$ con las dos excepciones mostradas. "
   ]
  },
  {
   "cell_type": "markdown",
   "metadata": {},
   "source": [
    "## ¿Existen grupos de $k$ enteros positivos consecutivos cuya suma sea una potencia de 2?"
   ]
  },
  {
   "cell_type": "code",
   "execution_count": 34,
   "metadata": {
    "collapsed": false
   },
   "outputs": [
    {
     "data": {
      "text/plain": [
       "-m1^2 + m2^2 + m1 + m2"
      ]
     },
     "execution_count": 34,
     "metadata": {},
     "output_type": "execute_result"
    }
   ],
   "source": [
    "var('k m1 m2');2*sum(k,k,m1,m2) #Doble de la suma de los enteros m1,m1+1,....,m2"
   ]
  },
  {
   "cell_type": "markdown",
   "metadata": {},
   "source": [
    "Esta fórmula se obtiene como consecuencia  de la identidad \n",
    "$$1+2+3+4+\\dots+n=\\frac{n(n+1)}{2}.$$"
   ]
  },
  {
   "cell_type": "code",
   "execution_count": 35,
   "metadata": {
    "collapsed": false
   },
   "outputs": [
    {
     "data": {
      "text/plain": [
       "-(m1 + m2)*(m1 - m2 - 1)"
      ]
     },
     "execution_count": 35,
     "metadata": {},
     "output_type": "execute_result"
    }
   ],
   "source": [
    "factor(2*sum(k,k,m1,m2))"
   ]
  },
  {
   "cell_type": "markdown",
   "metadata": {
    "collapsed": true
   },
   "source": [
    "Parece difícil que este producto sea una potencia de $2$, ya que cada uno de los dos factores debería ser una potencia de $2$. Termina el ejercicio. \n",
    "¿Pasa lo mismo si en lugar de una potencia de $2$ usamos una potencia de $3$? "
   ]
  },
  {
   "cell_type": "markdown",
   "metadata": {},
   "source": [
    "## ¿Qué sumas de dos cuadrados de enteros pueden dar un tecer cuadrado?"
   ]
  },
  {
   "cell_type": "code",
   "execution_count": 36,
   "metadata": {
    "collapsed": true
   },
   "outputs": [],
   "source": [
    "def sumas_cuadrados(n):\n",
    "    L =  []\n",
    "    for x in xsrange(n):\n",
    "        for y in xsrange(n):\n",
    "            z2 = x*x+y*y\n",
    "            if is_square(z2):\n",
    "                L.append((x,y))\n",
    "    return L"
   ]
  },
  {
   "cell_type": "code",
   "execution_count": 37,
   "metadata": {
    "collapsed": false
   },
   "outputs": [
    {
     "name": "stdout",
     "output_type": "stream",
     "text": [
      "CPU times: user 1.08 s, sys: 156 ms, total: 1.24 s\n",
      "Wall time: 1.11 s\n"
     ]
    }
   ],
   "source": [
    "time L10 = sumas_cuadrados(10^3)"
   ]
  },
  {
   "cell_type": "code",
   "execution_count": 38,
   "metadata": {
    "collapsed": false
   },
   "outputs": [
    {
     "name": "stdout",
     "output_type": "stream",
     "text": [
      "CPU times: user 1min 42s, sys: 1.41 s, total: 1min 43s\n",
      "Wall time: 1min 42s\n"
     ]
    }
   ],
   "source": [
    "time L11 = sumas_cuadrados(10^4)"
   ]
  },
  {
   "cell_type": "code",
   "execution_count": 39,
   "metadata": {
    "collapsed": true
   },
   "outputs": [],
   "source": [
    "def sumas_mal(n):\n",
    "    L = []\n",
    "    for x in xsrange(n):\n",
    "        for y in xsrange(n):\n",
    "            for z in xsrange(n):\n",
    "                if x*x+y*y==z*z:\n",
    "                    L.append((x,y,z))\n",
    "    return L"
   ]
  },
  {
   "cell_type": "code",
   "execution_count": 40,
   "metadata": {
    "collapsed": false
   },
   "outputs": [
    {
     "name": "stdout",
     "output_type": "stream",
     "text": [
      "CPU times: user 4min 37s, sys: 2.99 s, total: 4min 40s\n",
      "Wall time: 4min 37s\n"
     ]
    }
   ],
   "source": [
    "time L12= sumas_mal(10^3)"
   ]
  },
  {
   "cell_type": "code",
   "execution_count": 41,
   "metadata": {
    "collapsed": false
   },
   "outputs": [
    {
     "data": {
      "text/plain": [
       "4063"
      ]
     },
     "execution_count": 41,
     "metadata": {},
     "output_type": "execute_result"
    }
   ],
   "source": [
    "len(L10)"
   ]
  },
  {
   "cell_type": "code",
   "execution_count": 42,
   "metadata": {
    "collapsed": false
   },
   "outputs": [
    {
     "data": {
      "text/plain": [
       "3755"
      ]
     },
     "execution_count": 42,
     "metadata": {},
     "output_type": "execute_result"
    }
   ],
   "source": [
    "len(L12)"
   ]
  },
  {
   "cell_type": "markdown",
   "metadata": {},
   "source": [
    "$sumas\\_mal(1000)$ encuentra menos soluciones porque algunas de las que encuentra $sumas\\_cuadrados(1000)$ tienen el valor de $x^2+y^2$ mayor que $1000^2:$"
   ]
  },
  {
   "cell_type": "code",
   "execution_count": 43,
   "metadata": {
    "collapsed": true
   },
   "outputs": [],
   "source": [
    "def sumas_cuadrados_v2(n):\n",
    "    L =  []\n",
    "    for x in xsrange(n):\n",
    "        for y in xsrange(n):\n",
    "            z2 = x*x+y*y\n",
    "            if is_square(z2) and z2<1000^2:\n",
    "                L.append((x,y))\n",
    "    return L"
   ]
  },
  {
   "cell_type": "code",
   "execution_count": 44,
   "metadata": {
    "collapsed": false
   },
   "outputs": [
    {
     "name": "stdout",
     "output_type": "stream",
     "text": [
      "CPU times: user 1.16 s, sys: 48 ms, total: 1.2 s\n",
      "Wall time: 1.14 s\n"
     ]
    }
   ],
   "source": [
    "time L13 = sumas_cuadrados_v2(10^3)"
   ]
  },
  {
   "cell_type": "code",
   "execution_count": 45,
   "metadata": {
    "collapsed": false
   },
   "outputs": [
    {
     "data": {
      "text/plain": [
       "3755"
      ]
     },
     "execution_count": 45,
     "metadata": {},
     "output_type": "execute_result"
    }
   ],
   "source": [
    "len(L13)"
   ]
  },
  {
   "cell_type": "markdown",
   "metadata": {},
   "source": [
    "Es evidente que, para bucles anidados del mismo tamaño, es mejor cuantos menos podamos usar. Códigos como $sumas\\_mal(n)$ los he visto  con cierta frecuencia, y es claro que aunque hay tres variables en el problema si podemos usar sólo dos bucles anidados es mucho mejor. Lo que no se podrá es utilizar un único bucle en este problema, y tampoco en el primer problema de esta hoja."
   ]
  },
  {
   "cell_type": "code",
   "execution_count": null,
   "metadata": {
    "collapsed": true
   },
   "outputs": [],
   "source": []
  }
 ],
 "metadata": {
  "kernelspec": {
   "display_name": "SageMath 7.3",
   "language": "",
   "name": "sagemath"
  },
  "language_info": {
   "codemirror_mode": {
    "name": "ipython",
    "version": 2
   },
   "file_extension": ".py",
   "mimetype": "text/x-python",
   "name": "python",
   "nbconvert_exporter": "python",
   "pygments_lexer": "ipython2",
   "version": "2.7.10"
  }
 },
 "nbformat": 4,
 "nbformat_minor": 0
}
