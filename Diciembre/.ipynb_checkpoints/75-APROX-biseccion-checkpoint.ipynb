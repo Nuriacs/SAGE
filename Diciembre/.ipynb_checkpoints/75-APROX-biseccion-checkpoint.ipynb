{
 "cells": [
  {
   "cell_type": "code",
   "execution_count": 1,
   "metadata": {
    "collapsed": false
   },
   "outputs": [],
   "source": [
    "def subint(f,a,b):\n",
    "    if f(x=a)*f(x=b) > 0:\n",
    "        return \"ERROR: el intervalo no sirve para aplicar Bolzano\"\n",
    "    else:\n",
    "        if f(x=a)*f(x=(a+b)/2) < 0:\n",
    "            return a,(a+b)/2\n",
    "        elif f(x=(a+b)/2)*f(x=b) < 0:\n",
    "            return (a+b)/2,b\n",
    "        elif f(x=(a+b)/2)== 0:\n",
    "            return \"f tiene un cero en: %s\" %str((a+b)/2)\n",
    "        else:\n",
    "            return \"ERROR\""
   ]
  },
  {
   "cell_type": "code",
   "execution_count": 2,
   "metadata": {
    "collapsed": false
   },
   "outputs": [],
   "source": [
    "f(x)=x^2+0.0000001*x-1"
   ]
  },
  {
   "cell_type": "code",
   "execution_count": 3,
   "metadata": {
    "collapsed": false
   },
   "outputs": [
    {
     "data": {
      "text/plain": [
       "(0.000000000000000, 1.00000000000000)"
      ]
     },
     "execution_count": 3,
     "metadata": {},
     "output_type": "execute_result"
    }
   ],
   "source": [
    "subint(f,0.0,2.0)"
   ]
  },
  {
   "cell_type": "code",
   "execution_count": 4,
   "metadata": {
    "collapsed": false
   },
   "outputs": [],
   "source": [
    "def iterador(f,a,b,e):\n",
    "    while abs(a-b) > e:\n",
    "        a,b = subint(f,a,b)\n",
    "    return a,b,abs(a-b)"
   ]
  },
  {
   "cell_type": "code",
   "execution_count": 5,
   "metadata": {
    "collapsed": false
   },
   "outputs": [
    {
     "data": {
      "text/plain": [
       "(0.999999949708581, 0.999999950639904, 9.31322574615479e-10)"
      ]
     },
     "execution_count": 5,
     "metadata": {},
     "output_type": "execute_result"
    }
   ],
   "source": [
    "iterador(f,0.0,2.0,0.000000001)"
   ]
  },
  {
   "cell_type": "code",
   "execution_count": 6,
   "metadata": {
    "collapsed": false
   },
   "outputs": [
    {
     "data": {
      "text/plain": [
       "(0.999999950000001, 0.999999950000002, 8.88178419700125e-16)"
      ]
     },
     "execution_count": 6,
     "metadata": {},
     "output_type": "execute_result"
    }
   ],
   "source": [
    "iterador(f,0.0,2.0,0.000000000000001)"
   ]
  }
 ],
 "metadata": {
  "kernelspec": {
   "display_name": "Python 2",
   "language": "python",
   "name": "python2"
  },
  "language_info": {
   "codemirror_mode": {
    "name": "ipython",
    "version": 2
   },
   "file_extension": ".py",
   "mimetype": "text/x-python",
   "name": "python",
   "nbconvert_exporter": "python",
   "pygments_lexer": "ipython2",
   "version": "2.7.10"
  }
 },
 "nbformat": 4,
 "nbformat_minor": 0
}
