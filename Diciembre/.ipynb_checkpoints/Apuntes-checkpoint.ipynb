{
 "cells": [
  {
   "cell_type": "markdown",
   "metadata": {},
   "source": [
    "Seguimos aproximación: ceros de funciones\n",
    "\n",
    "7.6.2 p178    \n",
    "**METODO DE NEWTON**\n",
    "Cierta función a iterar, cada T es una solución más aproximada.\n",
    "\n",
    "$ T(x_0) = x_o - \\frac{f(x_0)}{f'(x_0)}$"
   ]
  },
  {
   "cell_type": "markdown",
   "metadata": {},
   "source": [
    "METODO DE BISECCIONES (Tª Bolzano)   \n",
    "f(a)< 0, f(b) > 0, hay un cero en (a,b), solución aproximada cuando (a,b) suficientemente pequeño\n"
   ]
  }
 ],
 "metadata": {
  "kernelspec": {
   "display_name": "SageMath 7.3",
   "language": "",
   "name": "sagemath"
  },
  "language_info": {
   "codemirror_mode": {
    "name": "ipython",
    "version": 2
   },
   "file_extension": ".py",
   "mimetype": "text/x-python",
   "name": "python",
   "nbconvert_exporter": "python",
   "pygments_lexer": "ipython2",
   "version": "2.7.10"
  }
 },
 "nbformat": 4,
 "nbformat_minor": 0
}
