{
 "cells": [
  {
   "cell_type": "markdown",
   "metadata": {},
   "source": [
    "Seguimos aproximación: ceros de funciones\n",
    "\n",
    "7.6.2 p178    \n",
    "**METODO DE NEWTON**\n",
    "Cierta función a iterar, cada T es una solución más aproximada.\n",
    "\n",
    "$ T(x_0) = x_o - \\frac{f(x_0)}{f'(x_0)}$"
   ]
  },
  {
   "cell_type": "markdown",
   "metadata": {},
   "source": [
    "**METODO DE BISECCIONES **(Tª Bolzano)   \n",
    "f(a)< 0, f(b) > 0, hay un cero en (a,b), solución aproximada cuando (a,b) suficientemente pequeño    \n",
    "find_root(f,a,b) devuelve un cero en [a,b] NO TODOS  \n",
    "\n"
   ]
  },
  {
   "cell_type": "markdown",
   "metadata": {},
   "source": [
    "### APROXIMACIÓN FUNCIONES\n",
    "\n",
    "Local (Taylor) vs global (en un intervalo)\n",
    "\n",
    "**INTERPOLACIÓN**      \n",
    "Con álgebra lineal, dados ciertos putos del polinomio, como a ppio curso (tema 2, creo): no da  aprox global, solo haces q en ciertos puntos si coincida, no sabes en todo lo demás cuánto se aleja\n",
    "\n",
    "**POLINOMIO DE BERNSTEIN** 7.7.5, p184    \n",
    "global, más exacto a mayor n"
   ]
  },
  {
   "cell_type": "code",
   "execution_count": null,
   "metadata": {
    "collapsed": true
   },
   "outputs": [],
   "source": []
  }
 ],
 "metadata": {
  "kernelspec": {
   "display_name": "SageMath 7.3",
   "language": "",
   "name": "sagemath"
  },
  "language_info": {
   "codemirror_mode": {
    "name": "ipython",
    "version": 2
   },
   "file_extension": ".py",
   "mimetype": "text/x-python",
   "name": "python",
   "nbconvert_exporter": "python",
   "pygments_lexer": "ipython2",
   "version": "2.7.10"
  }
 },
 "nbformat": 4,
 "nbformat_minor": 0
}
