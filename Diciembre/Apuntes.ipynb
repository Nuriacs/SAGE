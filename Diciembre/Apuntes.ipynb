{
 "cells": [
  {
   "cell_type": "markdown",
   "metadata": {},
   "source": [
    "TEMA 7\n",
    "n : numerical_approx(sqrt(2), digits = 4/prec=4 (prec: precision binaria))"
   ]
  },
  {
   "cell_type": "markdown",
   "metadata": {},
   "source": [
    "Puedes hacer operaciones en tu propio cuerpo con n bits de precision con instrucciones como NR= RealField(prec=n)\n",
    "Con NR(pi) hacemos que pi tenga n bits decimales\n",
    "Un digito= maomeno 4 bits, así son equivalentes:\n",
    "N(pi, digits = 616) y N(pi, prec=2048)\n",
    "tipo de dato: type(n)\n",
    "Hoja 71 del profe en esta carpeta:\n",
    "Tenemos error de redondeo despues de definir RealField(2048) (aumentamos la precision), y este es un error que no tendriamos si la precision fuera menor.\n",
    "\n",
    "TAYLOR(f, x, 0, 5)--> grado 5 en x=0"
   ]
  },
  {
   "cell_type": "markdown",
   "metadata": {},
   "source": [
    "Seguimos con $\\pi$ (capitulo 7)\n",
    "\n",
    "BBP da cifras hexadecimales de $\\pi$ :\n",
    "$ n-k > 0 \\rightarrow \\text{sumando se calcula  powermod}(n, k, m) := n^k \\text{mod } m $\n",
    "\n",
    "Los demás, se obtienen sumando términos hasta que el segundo sumando sea despreciable"
   ]
  },
  {
   "cell_type": "markdown",
   "metadata": {},
   "source": [
    "numero.str(base = 16) pasa a STR base 16;\n",
    "\n",
    "**FIND_FIT** devuelve una funcion dada una grafica;\n",
    "\n",
    "gcd lcm **MCD mcm**"
   ]
  },
  {
   "cell_type": "markdown",
   "metadata": {},
   "source": [
    "Seguimos aproximación: ceros de funciones\n",
    "\n",
    "7.6.2 p178    \n",
    "**METODO DE NEWTON**\n",
    "Cierta función a iterar, cada T es una solución más aproximada.\n",
    "\n",
    "$ T(x_0) = x_o - \\frac{f(x_0)}{f'(x_0)}$"
   ]
  },
  {
   "cell_type": "markdown",
   "metadata": {},
   "source": [
    "**METODO DE BISECCIONES **(Tª Bolzano)   \n",
    "f(a)< 0, f(b) > 0, hay un cero en (a,b), solución aproximada cuando (a,b) suficientemente pequeño    \n",
    "find_root(f,a,b) devuelve un cero en [a,b] NO TODOS  \n",
    "\n"
   ]
  },
  {
   "cell_type": "markdown",
   "metadata": {},
   "source": [
    "### APROXIMACIÓN FUNCIONES\n",
    "\n",
    "Local (Taylor) vs global (en un intervalo)\n",
    "\n",
    "**INTERPOLACIÓN**      \n",
    "Con álgebra lineal, dados ciertos putos del polinomio, como a ppio curso (tema 2, creo): no da  aprox global, solo haces q en ciertos puntos si coincida, no sabes en todo lo demás cuánto se aleja\n",
    "\n",
    "**POLINOMIO DE BERNSTEIN** 7.7.5, p184    \n",
    "global, más exacto a mayor n"
   ]
  },
  {
   "cell_type": "code",
   "execution_count": null,
   "metadata": {
    "collapsed": true
   },
   "outputs": [],
   "source": []
  }
 ],
 "metadata": {
  "kernelspec": {
   "display_name": "SageMath 7.3",
   "language": "",
   "name": "sagemath"
  },
  "language_info": {
   "codemirror_mode": {
    "name": "ipython",
    "version": 2
   },
   "file_extension": ".py",
   "mimetype": "text/x-python",
   "name": "python",
   "nbconvert_exporter": "python",
   "pygments_lexer": "ipython2",
   "version": "2.7.10"
  }
 },
 "nbformat": 4,
 "nbformat_minor": 0
}
