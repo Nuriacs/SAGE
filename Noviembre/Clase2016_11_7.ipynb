{
 "cells": [
  {
   "cell_type": "markdown",
   "metadata": {},
   "source": [
    "Clase "
   ]
  },
  {
   "cell_type": "markdown",
   "metadata": {},
   "source": [
    "FRACTALES: ver cuales son os comandos que necesitaremos usar sin llegar a anetenderlo en 57-COMPL-fractal-cython-numpy.ipynb"
   ]
  },
  {
   "cell_type": "markdown",
   "metadata": {},
   "source": [
    "ORBITAS: vemos algo raro q hace para simular orbitas que no se cierran por que elmetodo no es lo suficientemente exacto, esto se arregla con metodo simplectico"
   ]
  },
  {
   "cell_type": "markdown",
   "metadata": {},
   "source": [
    "Hoja de COMPRESION: mas compresion cuanto mas previsible es la aparicion de ceros o unos "
   ]
  },
  {
   "cell_type": "markdown",
   "metadata": {},
   "source": [
    "Para números ALEATORIOS usar input 9 de la hoja compresion de esta carpeta"
   ]
  },
  {
   "cell_type": "markdown",
   "metadata": {},
   "source": [
    "Juego de la vida: C_Vida-numpy-cython para ANIMACIONES; usar comando usr/local/anaconda2(o 2.7?)/bin/jupyter notebook\n",
    "Acelerar código: No comprobar si denom=o: @cython.cdivision(True), limites arrays  @cython.boundscheck(False) (para no comprobar lims arrays)se aplica a la funcion que sigue; funciones con cdef que solo usen cdefs dentro"
   ]
  },
  {
   "cell_type": "markdown",
   "metadata": {},
   "source": [
    "TEORIA DE NUMEROS:\n",
    "    congruencias, fibonacci,"
   ]
  },
  {
   "cell_type": "markdown",
   "metadata": {},
   "source": [
    "Precisión con el señor fibonacci: quitar términos, .n(), para ver eficiencia: %time , timeit()"
   ]
  },
  {
   "cell_type": "markdown",
   "metadata": {},
   "source": [
    "Algoritmo de Euclides, Bezout  \n",
    "a//b cociente (sin resto);   \n",
    "mcd(a,b)=mcd(b,r0)"
   ]
  },
  {
   "cell_type": "code",
   "execution_count": null,
   "metadata": {
    "collapsed": true
   },
   "outputs": [],
   "source": []
  }
 ],
 "metadata": {
  "kernelspec": {
   "display_name": "SageMath 7.3",
   "language": "",
   "name": "sagemath"
  },
  "language_info": {
   "codemirror_mode": {
    "name": "ipython",
    "version": 2
   },
   "file_extension": ".py",
   "mimetype": "text/x-python",
   "name": "python",
   "nbconvert_exporter": "python",
   "pygments_lexer": "ipython2",
   "version": "2.7.10"
  }
 },
 "nbformat": 4,
 "nbformat_minor": 0
}
