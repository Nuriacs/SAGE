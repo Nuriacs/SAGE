{
 "cells": [
  {
   "cell_type": "markdown",
   "metadata": {},
   "source": [
    "Clase "
   ]
  },
  {
   "cell_type": "markdown",
   "metadata": {},
   "source": [
    "FRACTALES: ver cuales son os comandos que necesitaremos usar sin llegar a anetenderlo en 57-COMPL-fractal-cython-numpy.ipynb"
   ]
  },
  {
   "cell_type": "markdown",
   "metadata": {},
   "source": [
    "ORBITAS: vemos algo raro q hace para simular orbitas que no se cierran por que elmetodo no es lo suficientemente exacto, esto se arregla con metodo simplectico"
   ]
  },
  {
   "cell_type": "markdown",
   "metadata": {},
   "source": [
    "Hoja de COMPRESION: mas compresion cuanto mas previsible es la aparicion de ceros o unos "
   ]
  },
  {
   "cell_type": "markdown",
   "metadata": {},
   "source": [
    "Para números ALEATORIOS usar input 9 de la hoja compresion de esta carpeta"
   ]
  },
  {
   "cell_type": "markdown",
   "metadata": {},
   "source": [
    "Juego de la vida: C_Vida-numpy-cython para ANIMACIONES; usar comando usr/local/anaconda2(o 2.7?)/bin/jupyter notebook\n",
    "Acelerar código: No comprobar si denom=o: @cython.cdivision(True), limites arrays  @cython.boundscheck(False) (para no comprobar lims arrays)se aplica a la funcion que sigue; funciones con cdef que solo usen cdefs dentro"
   ]
  },
  {
   "cell_type": "markdown",
   "metadata": {},
   "source": [
    "TEORIA DE NUMEROS:\n",
    "    congruencias, fibonacci,"
   ]
  },
  {
   "cell_type": "markdown",
   "metadata": {},
   "source": [
    "Precisión con el señor fibonacci: quitar términos, .n(), para ver eficiencia: %time , timeit()"
   ]
  },
  {
   "cell_type": "markdown",
   "metadata": {},
   "source": [
    "Algoritmo de Euclides, Bezout  \n",
    "a//b cociente (sin resto);   \n",
    "mcd(a,b)=mcd(b,r0)"
   ]
  },
  {
   "cell_type": "markdown",
   "metadata": {
    "collapsed": true
   },
   "source": [
    "FIBONACCI en la hoja mas-fibonacci se ve cual es la precision ecesaria para calculas el emesimo con una aproximacion: tb se ve como hacer GRAFICA y obtener APROXIMACION LINEAL\n",
    "Preguntale al niño de cuarto algo que pregunto acerc de las listas [[]] y [[],[],[]]"
   ]
  },
  {
   "cell_type": "markdown",
   "metadata": {},
   "source": [
    "El máxi num divpara euclides: em hoja 63 de esta carpeta. NO DEPENDE DE A\n",
    "\n",
    "\n",
    "$ \\\\ a>b, \\;b \\: \\text{con } k \\: \\text{cifras decimales} \\\\ Max|div_{euclides}| \\: \\:\\text{para Euclides} \\left(a, b\\right) \\: \\approx 5k \\\\ $ "
   ]
  },
  {
   "cell_type": "markdown",
   "metadata": {
    "collapsed": true
   },
   "source": [
    "TEMA 7\n",
    "n : numerical_approx(sqrt(2), digits = 4/prec=4 (prec: precision binaria))"
   ]
  },
  {
   "cell_type": "markdown",
   "metadata": {},
   "source": [
    "Puedes hacer operaciones en tu propio cuerpocon n bits de precision con instrucciones como NR= RealField(prec=n)\n",
    "Con NR(pi) hacemos que pi tenga n bits decimales\n",
    "Un digito= maomeno 4 bits, así son equivalentes:\n",
    "N(pi, digits = 616) y N(pi, prec=2048)\n",
    "tipo de dato: type(n)\n",
    "Hoja 71 del profe en esta carpeta:\n",
    "Tenemos error de redondeo despues de definir RealField(2048) (aumentamos la precision), y este es un error que no tendriamos si la precision fuera menor.\n",
    "\n",
    "taylor(f, x, 0, 5)--> grado 5"
   ]
  },
  {
   "cell_type": "markdown",
   "metadata": {},
   "source": [
    "Seguimos con $\\pi$ (capitulo 7)\n",
    "\n",
    "BBP da cifras hexadecimales de $\\pi$\n",
    "$ n-k > 0 \\rightarrow \\text{sumando se calcula  powermod}(n, k, m) := n^k \\text{mod } m $\n",
    "\n",
    "Los demás, se obtienen sumando términos hasta que el segundo sumando sea despreciable"
   ]
  },
  {
   "cell_type": "markdown",
   "metadata": {},
   "source": [
    "numero.str(base = 16) pasa a STR base 16;\n",
    "\n",
    "find_fit devuelve una funcion dada una grafica;\n",
    "\n",
    "L.count(item) devuelve la opsicion en la lista;\n",
    "\n",
    "gcd MCD"
   ]
  },
  {
   "cell_type": "code",
   "execution_count": null,
   "metadata": {
    "collapsed": true
   },
   "outputs": [],
   "source": []
  }
 ],
 "metadata": {
  "kernelspec": {
   "display_name": "SageMath 7.3",
   "language": "",
   "name": "sagemath"
  },
  "language_info": {
   "codemirror_mode": {
    "name": "ipython",
    "version": 2
   },
   "file_extension": ".py",
   "mimetype": "text/x-python",
   "name": "python",
   "nbconvert_exporter": "python",
   "pygments_lexer": "ipython2",
   "version": "2.7.10"
  }
 },
 "nbformat": 4,
 "nbformat_minor": 0
}
