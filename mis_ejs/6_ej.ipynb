{
 "cells": [
  {
   "cell_type": "markdown",
   "metadata": {},
   "source": [
    "## Tema 6\n",
    "### Ej 1"
   ]
  },
  {
   "cell_type": "code",
   "execution_count": 12,
   "metadata": {
    "collapsed": false
   },
   "outputs": [
    {
     "data": {
      "text/html": [
       "<html><script type=\"math/tex; mode=display\">\\newcommand{\\Bold}[1]{\\mathbf{#1}}\\left[1, 52, 52, 26, 52, 26, 26, 52, 26, 13, 26, 52, 13, 52, 13, 13, 26, 52, 52, 52, 52, 52, 4, 13, 26, 52, 52, 13, 26, 4, 52, 52, 52, 52, 52, 13, 26, 26, 52, 26, 52, 13, 26, 13, 52, 13, 13, 52, 13, 52, 52, 2\\right]</script></html>"
      ],
      "text/plain": [
       "[1,\n",
       " 52,\n",
       " 52,\n",
       " 26,\n",
       " 52,\n",
       " 26,\n",
       " 26,\n",
       " 52,\n",
       " 26,\n",
       " 13,\n",
       " 26,\n",
       " 52,\n",
       " 13,\n",
       " 52,\n",
       " 13,\n",
       " 13,\n",
       " 26,\n",
       " 52,\n",
       " 52,\n",
       " 52,\n",
       " 52,\n",
       " 52,\n",
       " 4,\n",
       " 13,\n",
       " 26,\n",
       " 52,\n",
       " 52,\n",
       " 13,\n",
       " 26,\n",
       " 4,\n",
       " 52,\n",
       " 52,\n",
       " 52,\n",
       " 52,\n",
       " 52,\n",
       " 13,\n",
       " 26,\n",
       " 26,\n",
       " 52,\n",
       " 26,\n",
       " 52,\n",
       " 13,\n",
       " 26,\n",
       " 13,\n",
       " 52,\n",
       " 13,\n",
       " 13,\n",
       " 52,\n",
       " 13,\n",
       " 52,\n",
       " 52,\n",
       " 2]"
      ]
     },
     "metadata": {},
     "output_type": "display_data"
    },
    {
     "data": {
      "text/html": [
       "<html><script type=\"math/tex; mode=display\">\\newcommand{\\Bold}[1]{\\mathbf{#1}}52</script></html>"
      ],
      "text/plain": [
       "52"
      ]
     },
     "metadata": {},
     "output_type": "display_data"
    },
    {
     "data": {
      "text/html": [
       "<html><script type=\"math/tex; mode=display\">\\newcommand{\\Bold}[1]{\\mathbf{#1}}52</script></html>"
      ],
      "text/plain": [
       "52"
      ]
     },
     "metadata": {},
     "output_type": "display_data"
    }
   ],
   "source": [
    "p = nth_prime(2013)\n",
    "\n",
    "def potencia_mod(a,k,m):\n",
    "    if k==0:\n",
    "        return 1\n",
    "    elif k%2 == 0:\n",
    "        b = potencia_mod(a,k/2,m)\n",
    "        return (b*b)%m\n",
    "    else:\n",
    "        b = potencia_mod(a,(k-1)/2,m)\n",
    "        return (a*b*b)%m\n",
    "    \n",
    "def find_one(elem,p):\n",
    "    if elem == 0:\n",
    "        return 0\n",
    "    Zp = Integers(p)\n",
    "    for i in srange(1, p):\n",
    "        if potencia_mod(elem, i, p) == 1:\n",
    "            return i\n",
    "    return -1\n",
    "    \n",
    "\n",
    "def find_all(p):\n",
    "    Zp = Integers(p)\n",
    "    L = []\n",
    "    for elem in Zp:\n",
    "        a = find_one(elem, p)\n",
    "        L.append(a)\n",
    "    L.remove(0)\n",
    "    return L\n",
    "\n",
    "'''def mult(a, b, p):\n",
    "    Zp = Integers(p)\n",
    "    a2 = Zp(a)\n",
    "    b2 = Zp(b)\n",
    "    A = set()\n",
    "    for k in srange(1, b2+1):\n",
    "        A.add(k*a2)\n",
    "    return A\n",
    "\n",
    "def multcom(a, b, p):\n",
    "    return (mult(a, b, p)&mult(b, a, p))\n",
    "\n",
    "def mcm(a, b, p):\n",
    "    Zp = Integers(p)\n",
    "    a2 = Zp(a)\n",
    "    b2 = Zp(b)\n",
    "    mcm = a2*b2\n",
    "    for item in multcom(a,b,p):\n",
    "        if item > mcm:\n",
    "            mcm = item\n",
    "    return mcm\n",
    "\n",
    "def find_mcm(L, p):\n",
    "    L2 = list(L)\n",
    "    m = 1\n",
    "    l = len(L2)\n",
    "    for i in srange(l, 1):\n",
    "        m = mcm(L2[i], L2[i-1])\n",
    "        L2[i-1] = m\n",
    "        L2.pop(i)\n",
    "    return L[0]'''\n",
    "\n",
    "'''Como lo de arriba no funciona y creo que el minimo a que cumple z^a = 1 es el maximo de todos los \n",
    "a de la lista, cojo el maximo'''\n",
    "L = find_all(53)\n",
    "show(L)\n",
    "m = max(L)\n",
    "show(m)"
   ]
  },
  {
   "cell_type": "code",
   "execution_count": 4,
   "metadata": {
    "collapsed": false
   },
   "outputs": [
    {
     "data": {
      "text/plain": [
       "17491"
      ]
     },
     "execution_count": 4,
     "metadata": {},
     "output_type": "execute_result"
    }
   ],
   "source": []
  },
  {
   "cell_type": "code",
   "execution_count": null,
   "metadata": {
    "collapsed": true
   },
   "outputs": [],
   "source": []
  }
 ],
 "metadata": {
  "kernelspec": {
   "display_name": "SageMath 7.3",
   "language": "",
   "name": "sagemath"
  },
  "language_info": {
   "codemirror_mode": {
    "name": "ipython",
    "version": 2
   },
   "file_extension": ".py",
   "mimetype": "text/x-python",
   "name": "python",
   "nbconvert_exporter": "python",
   "pygments_lexer": "ipython2",
   "version": "2.7.10"
  }
 },
 "nbformat": 4,
 "nbformat_minor": 0
}
