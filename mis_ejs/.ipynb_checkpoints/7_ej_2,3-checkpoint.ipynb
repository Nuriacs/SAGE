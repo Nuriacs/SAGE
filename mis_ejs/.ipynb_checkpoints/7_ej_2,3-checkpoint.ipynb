{
 "cells": [
  {
   "cell_type": "markdown",
   "metadata": {},
   "source": [
    "## TEMA 7\n",
    "### Ej 2"
   ]
  },
  {
   "cell_type": "code",
   "execution_count": 1,
   "metadata": {
    "collapsed": false
   },
   "outputs": [
    {
     "data": {
      "text/plain": [
       "48"
      ]
     },
     "execution_count": 1,
     "metadata": {},
     "output_type": "execute_result"
    }
   ],
   "source": [
    "s6 = 1/2\n",
    "t6 = 1/sqrt(3)\n",
    "\n",
    "def S(n):\n",
    "    if n == 6:\n",
    "        return s6\n",
    "    return sqrt( T(n)*S(n/2)/2 )\n",
    "def T(n):\n",
    "    if n == 6:\n",
    "        return t6\n",
    "    return 1/( (1/T(n/2)) + (1/S(n/2)) )\n",
    "\n",
    "def comprobar(n0) :\n",
    "    n = 6\n",
    "    resta = T(6) - S(6)\n",
    "    while resta >= 10^(-n0):\n",
    "        n = n*2\n",
    "        resta = T(n) - S(n)\n",
    "    return n\n",
    "\n",
    "comprobar(3)\n",
    "        "
   ]
  },
  {
   "cell_type": "markdown",
   "metadata": {},
   "source": [
    "### Ej 3"
   ]
  },
  {
   "cell_type": "code",
   "execution_count": null,
   "metadata": {
    "collapsed": true
   },
   "outputs": [],
   "source": [
    "def arct(x, sup):\n",
    "    suma = 0\n",
    "    for i in srange(0, sup+1):\n",
    "        suma = suma + (-1)^i * x^(2*i + 1) / (2*i + 1)\n",
    "    return suma\n",
    "def arctsuma(a, b, sup):\n",
    "    t = tan((arct(a, sup)) + tan((arct(b, sup))) ## PIENSAAAAA :D \n",
    "    \n"
   ]
  },
  {
   "cell_type": "code",
   "execution_count": 3,
   "metadata": {
    "collapsed": false
   },
   "outputs": [],
   "source": [
    "srange?"
   ]
  },
  {
   "cell_type": "code",
   "execution_count": null,
   "metadata": {
    "collapsed": true
   },
   "outputs": [],
   "source": []
  }
 ],
 "metadata": {
  "kernelspec": {
   "display_name": "SageMath 7.3",
   "language": "",
   "name": "sagemath"
  },
  "language_info": {
   "codemirror_mode": {
    "name": "ipython",
    "version": 2
   },
   "file_extension": ".py",
   "mimetype": "text/x-python",
   "name": "python",
   "nbconvert_exporter": "python",
   "pygments_lexer": "ipython2",
   "version": "2.7.10"
  }
 },
 "nbformat": 4,
 "nbformat_minor": 0
}
