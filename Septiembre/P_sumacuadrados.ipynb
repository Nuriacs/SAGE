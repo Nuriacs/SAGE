{
 "cells": [
  {
   "cell_type": "code",
   "execution_count": 6,
   "metadata": {
    "collapsed": false
   },
   "outputs": [
    {
     "data": {
      "text/html": [
       "<html><script type=\"math/tex; mode=display\">\\newcommand{\\Bold}[1]{\\mathbf{#1}}\\left[2, 5, 13, 17, 29, 37, 41, 53, 61, 73, 89, 97\\right]</script></html>"
      ],
      "text/plain": [
       "[2, 5, 13, 17, 29, 37, 41, 53, 61, 73, 89, 97]"
      ]
     },
     "metadata": {},
     "output_type": "display_data"
    }
   ],
   "source": [
    "'''Ver que primos son suma d cuadrados'''\n",
    "var('x y i n sq')\n",
    "n = 100\n",
    "K=[]\n",
    "L = prime_range(1, n)\n",
    "for i in L:\n",
    "    sq = ceil(sqrt(i))\n",
    "    for x in range(1, sq):\n",
    "        y = i-(x^2)\n",
    "        if is_square(y):\n",
    "          K.append(i)  \n",
    "        '''Añado L[i] auna nueva lista K'''\n",
    "L2 = list(set(K))\n",
    "L2.sort()\n",
    "show(L2)\n",
    "    "
   ]
  },
  {
   "cell_type": "code",
   "execution_count": 12,
   "metadata": {
    "collapsed": false
   },
   "outputs": [
    {
     "data": {
      "text/html": [
       "<html><script type=\"math/tex; mode=display\">\\newcommand{\\Bold}[1]{\\mathbf{#1}}\\left[1, 2^{2}, 2^{2} \\cdot 3, 2^{4}, 2^{2} \\cdot 7, 2^{2} \\cdot 3^{2}, 2^{3} \\cdot 5, 2^{2} \\cdot 13, 2^{2} \\cdot 3 \\cdot 5, 2^{3} \\cdot 3^{2}, 2^{3} \\cdot 11, 2^{5} \\cdot 3\\right]</script></html>"
      ],
      "text/plain": [
       "[1,\n",
       " 2^2,\n",
       " 2^2 * 3,\n",
       " 2^4,\n",
       " 2^2 * 7,\n",
       " 2^2 * 3^2,\n",
       " 2^3 * 5,\n",
       " 2^2 * 13,\n",
       " 2^2 * 3 * 5,\n",
       " 2^3 * 3^2,\n",
       " 2^3 * 11,\n",
       " 2^5 * 3]"
      ]
     },
     "metadata": {},
     "output_type": "display_data"
    }
   ],
   "source": [
    "L3 = [factor(item-1) for item in L2]\n",
    "show(L3)"
   ]
  },
  {
   "cell_type": "code",
   "execution_count": 13,
   "metadata": {
    "collapsed": false
   },
   "outputs": [
    {
     "data": {
      "text/html": [
       "<html><script type=\"math/tex; mode=display\">\\newcommand{\\Bold}[1]{\\mathbf{#1}}\\left[1, 0, 0, 0, 0, 0, 0, 0, 0, 0, 0, 0\\right]</script></html>"
      ],
      "text/plain": [
       "[1, 0, 0, 0, 0, 0, 0, 0, 0, 0, 0, 0]"
      ]
     },
     "metadata": {},
     "output_type": "display_data"
    }
   ],
   "source": [
    "L4 = [(item-1)%4 for item in L2]\n",
    "show(L4)"
   ]
  },
  {
   "cell_type": "code",
   "execution_count": null,
   "metadata": {
    "collapsed": true
   },
   "outputs": [],
   "source": []
  }
 ],
 "metadata": {
  "kernelspec": {
   "display_name": "SageMath 7.3",
   "language": "",
   "name": "sagemath"
  },
  "language_info": {
   "codemirror_mode": {
    "name": "ipython",
    "version": 2
   },
   "file_extension": ".py",
   "mimetype": "text/x-python",
   "name": "python",
   "nbconvert_exporter": "python",
   "pygments_lexer": "ipython2",
   "version": "2.7.10"
  }
 },
 "nbformat": 4,
 "nbformat_minor": 0
}
