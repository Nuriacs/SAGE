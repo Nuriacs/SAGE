{
 "cells": [
  {
   "cell_type": "code",
   "execution_count": null,
   "metadata": {
    "collapsed": false,
    "scrolled": true
   },
   "outputs": [],
   "source": [
    "'''Quiero ver n, N tq 1+...+n!=N² para n>3'''\n",
    "var('sum i flag n')\n",
    "i = 1\n",
    "flag = 0\n",
    "sum = 0\n",
    "while flag<1:\n",
    "    sum += factorial(i)\n",
    "    if is_square(sum) and n>3:\n",
    "        flag = 1 \n",
    "    i+=1\n",
    "show(sum)"
   ]
  },
  {
   "cell_type": "code",
   "execution_count": 1,
   "metadata": {
    "collapsed": false
   },
   "outputs": [
    {
     "name": "stdout",
     "output_type": "stream",
     "text": [
      "1\n",
      "9\n"
     ]
    }
   ],
   "source": [
    "'''Suma los elementos de una lista según la genera'''\n",
    "n = 100\n",
    "sum = 0\n",
    "i = 0\n",
    "for i in xsrange (1, n+1):\n",
    "    sum += factorial(i)\n",
    "    if is_square(sum):\n",
    "        print sum"
   ]
  },
  {
   "cell_type": "markdown",
   "metadata": {},
   "source": [
    "Defino funcion que calcula la suma de factoriales y creo una lista, L2 y L3 incluye aquellos que son cuadrados.\n",
    "L2 da sumafact(i), L3 el i cuyo sumafact es cuadrado perfecto."
   ]
  },
  {
   "cell_type": "code",
   "execution_count": 7,
   "metadata": {
    "collapsed": false
   },
   "outputs": [],
   "source": [
    "'''Defino sumafact y guardo sus returns cuadrados en una lista'''\n",
    "n = 30\n",
    "def sumafact(n):\n",
    "    sum = 0\n",
    "    for i in xsrange (1, n+1):\n",
    "        sum += factorial(i)\n",
    "    return sum"
   ]
  },
  {
   "cell_type": "code",
   "execution_count": 8,
   "metadata": {
    "collapsed": false
   },
   "outputs": [
    {
     "data": {
      "text/html": [
       "<html><script type=\"math/tex; mode=display\">\\newcommand{\\Bold}[1]{\\mathbf{#1}}\\left[1, 3, 9, 33, 153, 873, 5913, 46233, 409113, 4037913\\right]</script></html>"
      ],
      "text/plain": [
       "[1, 3, 9, 33, 153, 873, 5913, 46233, 409113, 4037913]"
      ]
     },
     "metadata": {},
     "output_type": "display_data"
    },
    {
     "data": {
      "text/html": [
       "<html><script type=\"math/tex; mode=display\">\\newcommand{\\Bold}[1]{\\mathbf{#1}}\\left[1, 9\\right]</script></html>"
      ],
      "text/plain": [
       "[1, 9]"
      ]
     },
     "metadata": {},
     "output_type": "display_data"
    },
    {
     "data": {
      "text/html": [
       "<html><script type=\"math/tex; mode=display\">\\newcommand{\\Bold}[1]{\\mathbf{#1}}\\left[1, 3\\right]</script></html>"
      ],
      "text/plain": [
       "[1, 3]"
      ]
     },
     "metadata": {},
     "output_type": "display_data"
    }
   ],
   "source": [
    "L1 = [sumafact(i) for i in xsrange(1, n+1)]\n",
    "L2 = [item for item in L1 if is_square(item)]\n",
    "L3 = [i for i in xsrange(1, n+1) if is_square(sumafact(i))]\n",
    "show(L1[0:10])\n",
    "show(L2)\n",
    "show(L3)\n",
    "                                                    "
   ]
  },
  {
   "cell_type": "markdown",
   "metadata": {},
   "source": [
    "Ahora veremos que todos los elementos a partir de cierto n cumplen que sumafact(n)%11 = 0\n",
    "A partir de sumafact(10), sumafact(n) = sumafact(10) + 11! +...+n!\n",
    "Los ultimos sumandos son 0 mod 11, y comprobamos que sumafact(n"
   ]
  },
  {
   "cell_type": "code",
   "execution_count": 32,
   "metadata": {
    "collapsed": false
   },
   "outputs": [
    {
     "data": {
      "text/html": [
       "<html><script type=\"math/tex; mode=display\">\\newcommand{\\Bold}[1]{\\mathbf{#1}}\\left[1, 3, 9, 0, 10, 4, 6, 0, 1, 0, 0, 0, 0, 0, 0, 0, 0, 0, 0, 0, 0, 0, 0, 0, 0, 0, 0, 0, 0, 0\\right]</script></html>"
      ],
      "text/plain": [
       "[1,\n",
       " 3,\n",
       " 9,\n",
       " 0,\n",
       " 10,\n",
       " 4,\n",
       " 6,\n",
       " 0,\n",
       " 1,\n",
       " 0,\n",
       " 0,\n",
       " 0,\n",
       " 0,\n",
       " 0,\n",
       " 0,\n",
       " 0,\n",
       " 0,\n",
       " 0,\n",
       " 0,\n",
       " 0,\n",
       " 0,\n",
       " 0,\n",
       " 0,\n",
       " 0,\n",
       " 0,\n",
       " 0,\n",
       " 0,\n",
       " 0,\n",
       " 0,\n",
       " 0]"
      ]
     },
     "metadata": {},
     "output_type": "display_data"
    },
    {
     "data": {
      "text/html": [
       "<html><script type=\"math/tex; mode=display\">\\newcommand{\\Bold}[1]{\\mathbf{#1}}0</script></html>"
      ],
      "text/plain": [
       "0"
      ]
     },
     "metadata": {},
     "output_type": "display_data"
    },
    {
     "data": {
      "text/html": [
       "<html><script type=\"math/tex; mode=display\">\\newcommand{\\Bold}[1]{\\mathbf{#1}}\\left[0\\right]</script></html>"
      ],
      "text/plain": [
       "[0]"
      ]
     },
     "metadata": {},
     "output_type": "display_data"
    }
   ],
   "source": [
    "L4 = [factor(item) for item in L1]\n",
    "L5 = [item%11 for item in L1]\n",
    "show(L5)\n",
    "show(sumafact(10)%11)\n",
    "L6 = list(set(L5[9:30]))\n",
    "show(L6)"
   ]
  },
  {
   "cell_type": "markdown",
   "metadata": {},
   "source": [
    "Falta ver que el fact0r 11 tiene exponente 1:\n",
    "A partir de sumafact(120), podemos ver que sumafact(n) = sumafact(120) + 121! +...+n!\n",
    "Los ultimos sumandos son todos 0 mod 121: basta ver que sumafact(120) no lo es para demostrar que sumafact(n) tampoco"
   ]
  },
  {
   "cell_type": "code",
   "execution_count": 29,
   "metadata": {
    "collapsed": false
   },
   "outputs": [
    {
     "data": {
      "text/html": [
       "<html><script type=\"math/tex; mode=display\">\\newcommand{\\Bold}[1]{\\mathbf{#1}}11</script></html>"
      ],
      "text/plain": [
       "11"
      ]
     },
     "metadata": {},
     "output_type": "display_data"
    }
   ],
   "source": [
    "show((sumafact(120))%121)"
   ]
  },
  {
   "cell_type": "code",
   "execution_count": null,
   "metadata": {
    "collapsed": true
   },
   "outputs": [],
   "source": []
  }
 ],
 "metadata": {
  "kernelspec": {
   "display_name": "SageMath 7.3",
   "language": "",
   "name": "sagemath"
  },
  "language_info": {
   "codemirror_mode": {
    "name": "ipython",
    "version": 2
   },
   "file_extension": ".py",
   "mimetype": "text/x-python",
   "name": "python",
   "nbconvert_exporter": "python",
   "pygments_lexer": "ipython2",
   "version": "2.7.10"
  }
 },
 "nbformat": 4,
 "nbformat_minor": 0
}
