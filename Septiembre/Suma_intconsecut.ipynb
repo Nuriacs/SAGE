{
 "cells": [
  {
   "cell_type": "code",
   "execution_count": 60,
   "metadata": {
    "collapsed": false
   },
   "outputs": [
    {
     "data": {
      "text/html": [
       "<html><script type=\"math/tex; mode=display\">\\newcommand{\\Bold}[1]{\\mathbf{#1}}\\frac{1}{2} \\, \\mathit{maxi}^{2} - \\frac{1}{2} \\, \\mathit{mini}^{2} + \\frac{1}{2} \\, \\mathit{maxi} + \\frac{1}{2} \\, \\mathit{mini}</script></html>"
      ],
      "text/plain": [
       "1/2*maxi^2 - 1/2*mini^2 + 1/2*maxi + 1/2*mini"
      ]
     },
     "metadata": {},
     "output_type": "display_data"
    }
   ],
   "source": [
    "var ('i mini maxi')\n",
    "exp = sum (i, i, mini, maxi) #sumame la expresion \"primer argumento\" for la variable \"2º argumento\" in (\"3ºarg\", \"4ºarg\")\n",
    "show(exp)"
   ]
  },
  {
   "cell_type": "code",
   "execution_count": 61,
   "metadata": {
    "collapsed": false
   },
   "outputs": [
    {
     "data": {
      "text/html": [
       "<html><script type=\"math/tex; mode=display\">\\newcommand{\\Bold}[1]{\\mathbf{#1}}\\frac{1}{2} \\, {\\left(\\mathit{maxi} + \\mathit{mini}\\right)} {\\left(\\mathit{maxi} - \\mathit{mini} + 1\\right)}</script></html>"
      ],
      "text/plain": [
       "1/2*(maxi + mini)*(maxi - mini + 1)"
      ]
     },
     "metadata": {},
     "output_type": "display_data"
    }
   ],
   "source": [
    "show(factor(exp))\n"
   ]
  },
  {
   "cell_type": "markdown",
   "metadata": {},
   "source": [
    "Para que esa exp fuera potencia de 2, ambos factores deben ser potencia de 2 y al menos uno > 2 (para ser multiplo de 4 y compensar el 1/2)"
   ]
  },
  {
   "cell_type": "code",
   "execution_count": 66,
   "metadata": {
    "collapsed": false
   },
   "outputs": [
    {
     "name": "stdout",
     "output_type": "stream",
     "text": [
      "[(1, 1, 2, 1), (1, 3, 4, 3), (1, 7, 8, 7), (1, 15, 16, 15), (1, 31, 32, 31), (2, 2, 4, 1), (2, 6, 8, 5), (2, 14, 16, 13), (2, 30, 32, 29), (3, 5, 8, 3), (3, 13, 16, 11), (3, 29, 32, 27), (4, 4, 8, 1), (4, 12, 16, 9), (4, 28, 32, 25), (5, 11, 16, 7), (5, 27, 32, 23), (6, 10, 16, 5), (6, 26, 32, 21), (7, 9, 16, 3), (7, 25, 32, 19), (8, 8, 16, 1), (8, 24, 32, 17), (9, 23, 32, 15), (10, 22, 32, 13), (11, 21, 32, 11), (12, 20, 32, 9), (13, 19, 32, 7), (14, 18, 32, 5), (15, 17, 32, 3), (15, 49, 64, 35), (16, 16, 32, 1), (16, 48, 64, 33), (17, 47, 64, 31), (18, 46, 64, 29), (19, 45, 64, 27), (20, 44, 64, 25), (21, 43, 64, 23), (22, 42, 64, 21), (23, 41, 64, 19), (24, 40, 64, 17), (25, 39, 64, 15), (26, 38, 64, 13), (27, 37, 64, 11), (28, 36, 64, 9), (29, 35, 64, 7), (30, 34, 64, 5), (31, 33, 64, 3), (32, 32, 64, 1)]\n"
     ]
    },
    {
     "data": {
      "text/html": [
       "<html><script type=\"math/tex; mode=display\">\\newcommand{\\Bold}[1]{\\mathbf{#1}}\\left[1, 3, 7, 15, 31, 1, 5, 13, 29, 3, 11, 27, 1, 9, 25, 7, 23, 5, 21, 3, 19, 1, 17, 15, 13, 11, 9, 7, 5, 3, 35, 1, 33, 31, 29, 27, 25, 23, 21, 19, 17, 15, 13, 11, 9, 7, 5, 3, 1\\right]</script></html>"
      ],
      "text/plain": [
       "[1,\n",
       " 3,\n",
       " 7,\n",
       " 15,\n",
       " 31,\n",
       " 1,\n",
       " 5,\n",
       " 13,\n",
       " 29,\n",
       " 3,\n",
       " 11,\n",
       " 27,\n",
       " 1,\n",
       " 9,\n",
       " 25,\n",
       " 7,\n",
       " 23,\n",
       " 5,\n",
       " 21,\n",
       " 3,\n",
       " 19,\n",
       " 1,\n",
       " 17,\n",
       " 15,\n",
       " 13,\n",
       " 11,\n",
       " 9,\n",
       " 7,\n",
       " 5,\n",
       " 3,\n",
       " 35,\n",
       " 1,\n",
       " 33,\n",
       " 31,\n",
       " 29,\n",
       " 27,\n",
       " 25,\n",
       " 23,\n",
       " 21,\n",
       " 19,\n",
       " 17,\n",
       " 15,\n",
       " 13,\n",
       " 11,\n",
       " 9,\n",
       " 7,\n",
       " 5,\n",
       " 3,\n",
       " 1]"
      ]
     },
     "metadata": {},
     "output_type": "display_data"
    },
    {
     "data": {
      "text/html": [
       "<html><script type=\"math/tex; mode=display\">\\newcommand{\\Bold}[1]{\\mathbf{#1}}\\left[1, 3, 5, 7, 9, 11, 13, 15, 17, 19, 21, 23, 25, 27, 29, 31, 33, 35\\right]</script></html>"
      ],
      "text/plain": [
       "[1, 3, 5, 7, 9, 11, 13, 15, 17, 19, 21, 23, 25, 27, 29, 31, 33, 35]"
      ]
     },
     "metadata": {},
     "output_type": "display_data"
    }
   ],
   "source": [
    "var ('j n')\n",
    "n = 50\n",
    "L1 = [(j, i, i+j, i-j+1) for j in srange(1, n) for i in srange(j,n) if log(i+j, 2)==int(log(i+j, 2))]\n",
    "'''En L1 quedan los que tienen al primer factor como potencia de 2'''\n",
    "print(L1)\n",
    "\n",
    "L2 = [item[3] for item in L1] \n",
    "'''Tomamos el segundo factor para ver qué pinta tiene'''\n",
    "show(L2)\n",
    "\n",
    "L3 = list(set(L2))\n",
    "L3.sort()\n",
    "show(L3)"
   ]
  },
  {
   "cell_type": "markdown",
   "metadata": {},
   "source": [
    "Parece que nunca tenemos que el segundo factor sea potencia de 2, de hecho parece que nunca es par: veamos si podemos deducir por qué"
   ]
  },
  {
   "cell_type": "markdown",
   "metadata": {},
   "source": [
    "Si maxi+mini es par, entonces o maxi y mini son pares, o maxi y mini son impares. En ambos casos, maxi-mini es par y por tanto maxi-mini+1, el segundo factor, es impar."
   ]
  },
  {
   "cell_type": "code",
   "execution_count": 68,
   "metadata": {
    "collapsed": false
   },
   "outputs": [
    {
     "name": "stdout",
     "output_type": "stream",
     "text": [
      "[(1, 2, 3, 2), (1, 8, 9, 8), (1, 26, 27, 26), (2, 7, 9, 6), (2, 25, 27, 24), (3, 6, 9, 4), (3, 24, 27, 22), (4, 5, 9, 2), (4, 23, 27, 20), (5, 22, 27, 18), (6, 21, 27, 16), (7, 20, 27, 14), (8, 19, 27, 12), (9, 18, 27, 10), (10, 17, 27, 8), (11, 16, 27, 6), (12, 15, 27, 4), (13, 14, 27, 2), (32, 49, 81, 18), (33, 48, 81, 16), (34, 47, 81, 14), (35, 46, 81, 12), (36, 45, 81, 10), (37, 44, 81, 8), (38, 43, 81, 6), (39, 42, 81, 4), (40, 41, 81, 2)]\n"
     ]
    },
    {
     "data": {
      "text/html": [
       "<html><script type=\"math/tex; mode=display\">\\newcommand{\\Bold}[1]{\\mathbf{#1}}\\left[2, 8, 26, 6, 24, 4, 22, 2, 20, 18, 16, 14, 12, 10, 8, 6, 4, 2, 18, 16, 14, 12, 10, 8, 6, 4, 2\\right]</script></html>"
      ],
      "text/plain": [
       "[2,\n",
       " 8,\n",
       " 26,\n",
       " 6,\n",
       " 24,\n",
       " 4,\n",
       " 22,\n",
       " 2,\n",
       " 20,\n",
       " 18,\n",
       " 16,\n",
       " 14,\n",
       " 12,\n",
       " 10,\n",
       " 8,\n",
       " 6,\n",
       " 4,\n",
       " 2,\n",
       " 18,\n",
       " 16,\n",
       " 14,\n",
       " 12,\n",
       " 10,\n",
       " 8,\n",
       " 6,\n",
       " 4,\n",
       " 2]"
      ]
     },
     "metadata": {},
     "output_type": "display_data"
    },
    {
     "data": {
      "text/html": [
       "<html><script type=\"math/tex; mode=display\">\\newcommand{\\Bold}[1]{\\mathbf{#1}}\\left[2, 4, 6, 8, 10, 12, 14, 16, 18, 20, 22, 24, 26\\right]</script></html>"
      ],
      "text/plain": [
       "[2, 4, 6, 8, 10, 12, 14, 16, 18, 20, 22, 24, 26]"
      ]
     },
     "metadata": {},
     "output_type": "display_data"
    }
   ],
   "source": [
    "'''Vemos si puede ser potencia de 3'''\n",
    "n = 50\n",
    "L4 = [(j, i, i+j, i-j+1) for j in srange(1, n) for i in srange(j,n) if log(i+j, 3)==int(log(i+j, 3))]\n",
    "'''En L4 quedan los que tienen al primer factor como potencia de 3'''\n",
    "print(L4)\n",
    "\n",
    "L5 = [item[3] for item in L4] \n",
    "'''Tomamos el segundo factor para ver qué pinta tiene'''\n",
    "\n",
    "show(L5)\n",
    "\n",
    "L6 = list(set(L5))\n",
    "L6.sort()\n",
    "show(L6)"
   ]
  },
  {
   "cell_type": "markdown",
   "metadata": {},
   "source": [
    "Parece que son todos pares y, por tanto, no potencias de 3, ¿por qué puede ser?\n",
    "maxi+mini = potencia de 3, entonces no son pares, entonces :\n"
   ]
  },
  {
   "cell_type": "markdown",
   "metadata": {},
   "source": [
    "a)maxi par, mini impar              \n",
    "b)maxi impar, mini par"
   ]
  },
  {
   "cell_type": "markdown",
   "metadata": {},
   "source": [
    "En cualquier caso, maxi-mini es impar asi que maxi - mini + 1 es par y por tanto no potencia de 3"
   ]
  },
  {
   "cell_type": "code",
   "execution_count": null,
   "metadata": {
    "collapsed": true
   },
   "outputs": [],
   "source": []
  }
 ],
 "metadata": {
  "kernelspec": {
   "display_name": "SageMath 7.3",
   "language": "",
   "name": "sagemath"
  },
  "language_info": {
   "codemirror_mode": {
    "name": "ipython",
    "version": 2
   },
   "file_extension": ".py",
   "mimetype": "text/x-python",
   "name": "python",
   "nbconvert_exporter": "python",
   "pygments_lexer": "ipython2",
   "version": "2.7.10"
  }
 },
 "nbformat": 4,
 "nbformat_minor": 0
}
